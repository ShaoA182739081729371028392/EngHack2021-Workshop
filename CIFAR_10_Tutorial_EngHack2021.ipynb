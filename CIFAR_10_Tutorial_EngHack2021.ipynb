{
  "nbformat": 4,
  "nbformat_minor": 0,
  "metadata": {
    "colab": {
      "name": "CIFAR 10 Tutorial - EngHack2021",
      "provenance": [],
      "collapsed_sections": []
    },
    "kernelspec": {
      "name": "python3",
      "display_name": "Python 3"
    },
    "language_info": {
      "name": "python"
    },
    "widgets": {
      "application/vnd.jupyter.widget-state+json": {
        "8a502152329a4be1abd20ccd6019c4ec": {
          "model_module": "@jupyter-widgets/controls",
          "model_name": "HBoxModel",
          "state": {
            "_view_name": "HBoxView",
            "_dom_classes": [],
            "_model_name": "HBoxModel",
            "_view_module": "@jupyter-widgets/controls",
            "_model_module_version": "1.5.0",
            "_view_count": null,
            "_view_module_version": "1.5.0",
            "box_style": "",
            "layout": "IPY_MODEL_7c2e276d7f654b24a257dfeebaae0dca",
            "_model_module": "@jupyter-widgets/controls",
            "children": [
              "IPY_MODEL_2ae5a970d9374382ac29a1d6f639d190",
              "IPY_MODEL_5b61856a54fc4a45b19b834c328e7028"
            ]
          }
        },
        "7c2e276d7f654b24a257dfeebaae0dca": {
          "model_module": "@jupyter-widgets/base",
          "model_name": "LayoutModel",
          "state": {
            "_view_name": "LayoutView",
            "grid_template_rows": null,
            "right": null,
            "justify_content": null,
            "_view_module": "@jupyter-widgets/base",
            "overflow": null,
            "_model_module_version": "1.2.0",
            "_view_count": null,
            "flex_flow": null,
            "width": null,
            "min_width": null,
            "border": null,
            "align_items": null,
            "bottom": null,
            "_model_module": "@jupyter-widgets/base",
            "top": null,
            "grid_column": null,
            "overflow_y": null,
            "overflow_x": null,
            "grid_auto_flow": null,
            "grid_area": null,
            "grid_template_columns": null,
            "flex": null,
            "_model_name": "LayoutModel",
            "justify_items": null,
            "grid_row": null,
            "max_height": null,
            "align_content": null,
            "visibility": null,
            "align_self": null,
            "height": null,
            "min_height": null,
            "padding": null,
            "grid_auto_rows": null,
            "grid_gap": null,
            "max_width": null,
            "order": null,
            "_view_module_version": "1.2.0",
            "grid_template_areas": null,
            "object_position": null,
            "object_fit": null,
            "grid_auto_columns": null,
            "margin": null,
            "display": null,
            "left": null
          }
        },
        "2ae5a970d9374382ac29a1d6f639d190": {
          "model_module": "@jupyter-widgets/controls",
          "model_name": "FloatProgressModel",
          "state": {
            "_view_name": "ProgressView",
            "style": "IPY_MODEL_815f66b5c6804b018bcd494d3f5b0f00",
            "_dom_classes": [],
            "description": "Dl Completed...: 100%",
            "_model_name": "FloatProgressModel",
            "bar_style": "success",
            "max": 1,
            "_view_module": "@jupyter-widgets/controls",
            "_model_module_version": "1.5.0",
            "value": 1,
            "_view_count": null,
            "_view_module_version": "1.5.0",
            "orientation": "horizontal",
            "min": 0,
            "description_tooltip": null,
            "_model_module": "@jupyter-widgets/controls",
            "layout": "IPY_MODEL_e392f5ee43604ffba66d611720c11ca1"
          }
        },
        "5b61856a54fc4a45b19b834c328e7028": {
          "model_module": "@jupyter-widgets/controls",
          "model_name": "HTMLModel",
          "state": {
            "_view_name": "HTMLView",
            "style": "IPY_MODEL_c725c3fe7f9f42fd908eb8810a206df6",
            "_dom_classes": [],
            "description": "",
            "_model_name": "HTMLModel",
            "placeholder": "​",
            "_view_module": "@jupyter-widgets/controls",
            "_model_module_version": "1.5.0",
            "value": " 1/1 [00:05&lt;00:00,  5.95s/ url]",
            "_view_count": null,
            "_view_module_version": "1.5.0",
            "description_tooltip": null,
            "_model_module": "@jupyter-widgets/controls",
            "layout": "IPY_MODEL_e5ea13a3f9c84f51b0fd1157a3822186"
          }
        },
        "815f66b5c6804b018bcd494d3f5b0f00": {
          "model_module": "@jupyter-widgets/controls",
          "model_name": "ProgressStyleModel",
          "state": {
            "_view_name": "StyleView",
            "_model_name": "ProgressStyleModel",
            "description_width": "initial",
            "_view_module": "@jupyter-widgets/base",
            "_model_module_version": "1.5.0",
            "_view_count": null,
            "_view_module_version": "1.2.0",
            "bar_color": null,
            "_model_module": "@jupyter-widgets/controls"
          }
        },
        "e392f5ee43604ffba66d611720c11ca1": {
          "model_module": "@jupyter-widgets/base",
          "model_name": "LayoutModel",
          "state": {
            "_view_name": "LayoutView",
            "grid_template_rows": null,
            "right": null,
            "justify_content": null,
            "_view_module": "@jupyter-widgets/base",
            "overflow": null,
            "_model_module_version": "1.2.0",
            "_view_count": null,
            "flex_flow": null,
            "width": null,
            "min_width": null,
            "border": null,
            "align_items": null,
            "bottom": null,
            "_model_module": "@jupyter-widgets/base",
            "top": null,
            "grid_column": null,
            "overflow_y": null,
            "overflow_x": null,
            "grid_auto_flow": null,
            "grid_area": null,
            "grid_template_columns": null,
            "flex": null,
            "_model_name": "LayoutModel",
            "justify_items": null,
            "grid_row": null,
            "max_height": null,
            "align_content": null,
            "visibility": null,
            "align_self": null,
            "height": null,
            "min_height": null,
            "padding": null,
            "grid_auto_rows": null,
            "grid_gap": null,
            "max_width": null,
            "order": null,
            "_view_module_version": "1.2.0",
            "grid_template_areas": null,
            "object_position": null,
            "object_fit": null,
            "grid_auto_columns": null,
            "margin": null,
            "display": null,
            "left": null
          }
        },
        "c725c3fe7f9f42fd908eb8810a206df6": {
          "model_module": "@jupyter-widgets/controls",
          "model_name": "DescriptionStyleModel",
          "state": {
            "_view_name": "StyleView",
            "_model_name": "DescriptionStyleModel",
            "description_width": "",
            "_view_module": "@jupyter-widgets/base",
            "_model_module_version": "1.5.0",
            "_view_count": null,
            "_view_module_version": "1.2.0",
            "_model_module": "@jupyter-widgets/controls"
          }
        },
        "e5ea13a3f9c84f51b0fd1157a3822186": {
          "model_module": "@jupyter-widgets/base",
          "model_name": "LayoutModel",
          "state": {
            "_view_name": "LayoutView",
            "grid_template_rows": null,
            "right": null,
            "justify_content": null,
            "_view_module": "@jupyter-widgets/base",
            "overflow": null,
            "_model_module_version": "1.2.0",
            "_view_count": null,
            "flex_flow": null,
            "width": null,
            "min_width": null,
            "border": null,
            "align_items": null,
            "bottom": null,
            "_model_module": "@jupyter-widgets/base",
            "top": null,
            "grid_column": null,
            "overflow_y": null,
            "overflow_x": null,
            "grid_auto_flow": null,
            "grid_area": null,
            "grid_template_columns": null,
            "flex": null,
            "_model_name": "LayoutModel",
            "justify_items": null,
            "grid_row": null,
            "max_height": null,
            "align_content": null,
            "visibility": null,
            "align_self": null,
            "height": null,
            "min_height": null,
            "padding": null,
            "grid_auto_rows": null,
            "grid_gap": null,
            "max_width": null,
            "order": null,
            "_view_module_version": "1.2.0",
            "grid_template_areas": null,
            "object_position": null,
            "object_fit": null,
            "grid_auto_columns": null,
            "margin": null,
            "display": null,
            "left": null
          }
        },
        "7c60b4a253d54b09acc11ff2aed14509": {
          "model_module": "@jupyter-widgets/controls",
          "model_name": "HBoxModel",
          "state": {
            "_view_name": "HBoxView",
            "_dom_classes": [],
            "_model_name": "HBoxModel",
            "_view_module": "@jupyter-widgets/controls",
            "_model_module_version": "1.5.0",
            "_view_count": null,
            "_view_module_version": "1.5.0",
            "box_style": "",
            "layout": "IPY_MODEL_4561a54eb0374eb6b13c50963bd79287",
            "_model_module": "@jupyter-widgets/controls",
            "children": [
              "IPY_MODEL_9e2722b8612042c4855df7c90f30e123",
              "IPY_MODEL_b1a54aa262c645f59c79d0c9ba1e428a"
            ]
          }
        },
        "4561a54eb0374eb6b13c50963bd79287": {
          "model_module": "@jupyter-widgets/base",
          "model_name": "LayoutModel",
          "state": {
            "_view_name": "LayoutView",
            "grid_template_rows": null,
            "right": null,
            "justify_content": null,
            "_view_module": "@jupyter-widgets/base",
            "overflow": null,
            "_model_module_version": "1.2.0",
            "_view_count": null,
            "flex_flow": null,
            "width": null,
            "min_width": null,
            "border": null,
            "align_items": null,
            "bottom": null,
            "_model_module": "@jupyter-widgets/base",
            "top": null,
            "grid_column": null,
            "overflow_y": null,
            "overflow_x": null,
            "grid_auto_flow": null,
            "grid_area": null,
            "grid_template_columns": null,
            "flex": null,
            "_model_name": "LayoutModel",
            "justify_items": null,
            "grid_row": null,
            "max_height": null,
            "align_content": null,
            "visibility": null,
            "align_self": null,
            "height": null,
            "min_height": null,
            "padding": null,
            "grid_auto_rows": null,
            "grid_gap": null,
            "max_width": null,
            "order": null,
            "_view_module_version": "1.2.0",
            "grid_template_areas": null,
            "object_position": null,
            "object_fit": null,
            "grid_auto_columns": null,
            "margin": null,
            "display": null,
            "left": null
          }
        },
        "9e2722b8612042c4855df7c90f30e123": {
          "model_module": "@jupyter-widgets/controls",
          "model_name": "FloatProgressModel",
          "state": {
            "_view_name": "ProgressView",
            "style": "IPY_MODEL_33f98891772b47fe9d1c39656787dc92",
            "_dom_classes": [],
            "description": "Dl Size...: 100%",
            "_model_name": "FloatProgressModel",
            "bar_style": "success",
            "max": 1,
            "_view_module": "@jupyter-widgets/controls",
            "_model_module_version": "1.5.0",
            "value": 1,
            "_view_count": null,
            "_view_module_version": "1.5.0",
            "orientation": "horizontal",
            "min": 0,
            "description_tooltip": null,
            "_model_module": "@jupyter-widgets/controls",
            "layout": "IPY_MODEL_24011f0a819f4a2ea0d9f320fcb04f3c"
          }
        },
        "b1a54aa262c645f59c79d0c9ba1e428a": {
          "model_module": "@jupyter-widgets/controls",
          "model_name": "HTMLModel",
          "state": {
            "_view_name": "HTMLView",
            "style": "IPY_MODEL_27fd1d9bd322490eace114048c2ff9a0",
            "_dom_classes": [],
            "description": "",
            "_model_name": "HTMLModel",
            "placeholder": "​",
            "_view_module": "@jupyter-widgets/controls",
            "_model_module_version": "1.5.0",
            "value": " 162/162 [00:05&lt;00:00, 27.42 MiB/s]",
            "_view_count": null,
            "_view_module_version": "1.5.0",
            "description_tooltip": null,
            "_model_module": "@jupyter-widgets/controls",
            "layout": "IPY_MODEL_030caee35c524e8a98ca18d43ee05da1"
          }
        },
        "33f98891772b47fe9d1c39656787dc92": {
          "model_module": "@jupyter-widgets/controls",
          "model_name": "ProgressStyleModel",
          "state": {
            "_view_name": "StyleView",
            "_model_name": "ProgressStyleModel",
            "description_width": "initial",
            "_view_module": "@jupyter-widgets/base",
            "_model_module_version": "1.5.0",
            "_view_count": null,
            "_view_module_version": "1.2.0",
            "bar_color": null,
            "_model_module": "@jupyter-widgets/controls"
          }
        },
        "24011f0a819f4a2ea0d9f320fcb04f3c": {
          "model_module": "@jupyter-widgets/base",
          "model_name": "LayoutModel",
          "state": {
            "_view_name": "LayoutView",
            "grid_template_rows": null,
            "right": null,
            "justify_content": null,
            "_view_module": "@jupyter-widgets/base",
            "overflow": null,
            "_model_module_version": "1.2.0",
            "_view_count": null,
            "flex_flow": null,
            "width": null,
            "min_width": null,
            "border": null,
            "align_items": null,
            "bottom": null,
            "_model_module": "@jupyter-widgets/base",
            "top": null,
            "grid_column": null,
            "overflow_y": null,
            "overflow_x": null,
            "grid_auto_flow": null,
            "grid_area": null,
            "grid_template_columns": null,
            "flex": null,
            "_model_name": "LayoutModel",
            "justify_items": null,
            "grid_row": null,
            "max_height": null,
            "align_content": null,
            "visibility": null,
            "align_self": null,
            "height": null,
            "min_height": null,
            "padding": null,
            "grid_auto_rows": null,
            "grid_gap": null,
            "max_width": null,
            "order": null,
            "_view_module_version": "1.2.0",
            "grid_template_areas": null,
            "object_position": null,
            "object_fit": null,
            "grid_auto_columns": null,
            "margin": null,
            "display": null,
            "left": null
          }
        },
        "27fd1d9bd322490eace114048c2ff9a0": {
          "model_module": "@jupyter-widgets/controls",
          "model_name": "DescriptionStyleModel",
          "state": {
            "_view_name": "StyleView",
            "_model_name": "DescriptionStyleModel",
            "description_width": "",
            "_view_module": "@jupyter-widgets/base",
            "_model_module_version": "1.5.0",
            "_view_count": null,
            "_view_module_version": "1.2.0",
            "_model_module": "@jupyter-widgets/controls"
          }
        },
        "030caee35c524e8a98ca18d43ee05da1": {
          "model_module": "@jupyter-widgets/base",
          "model_name": "LayoutModel",
          "state": {
            "_view_name": "LayoutView",
            "grid_template_rows": null,
            "right": null,
            "justify_content": null,
            "_view_module": "@jupyter-widgets/base",
            "overflow": null,
            "_model_module_version": "1.2.0",
            "_view_count": null,
            "flex_flow": null,
            "width": null,
            "min_width": null,
            "border": null,
            "align_items": null,
            "bottom": null,
            "_model_module": "@jupyter-widgets/base",
            "top": null,
            "grid_column": null,
            "overflow_y": null,
            "overflow_x": null,
            "grid_auto_flow": null,
            "grid_area": null,
            "grid_template_columns": null,
            "flex": null,
            "_model_name": "LayoutModel",
            "justify_items": null,
            "grid_row": null,
            "max_height": null,
            "align_content": null,
            "visibility": null,
            "align_self": null,
            "height": null,
            "min_height": null,
            "padding": null,
            "grid_auto_rows": null,
            "grid_gap": null,
            "max_width": null,
            "order": null,
            "_view_module_version": "1.2.0",
            "grid_template_areas": null,
            "object_position": null,
            "object_fit": null,
            "grid_auto_columns": null,
            "margin": null,
            "display": null,
            "left": null
          }
        },
        "514fcc441e94476298cf2827f02f4007": {
          "model_module": "@jupyter-widgets/controls",
          "model_name": "HBoxModel",
          "state": {
            "_view_name": "HBoxView",
            "_dom_classes": [],
            "_model_name": "HBoxModel",
            "_view_module": "@jupyter-widgets/controls",
            "_model_module_version": "1.5.0",
            "_view_count": null,
            "_view_module_version": "1.5.0",
            "box_style": "",
            "layout": "IPY_MODEL_164d579e8c8b4ccb9fb68da5c51e2aff",
            "_model_module": "@jupyter-widgets/controls",
            "children": [
              "IPY_MODEL_1584b4edb62047ccab26f149918ddd7e",
              "IPY_MODEL_4fc3fa5222434a5fb869c915393edcb0"
            ]
          }
        },
        "164d579e8c8b4ccb9fb68da5c51e2aff": {
          "model_module": "@jupyter-widgets/base",
          "model_name": "LayoutModel",
          "state": {
            "_view_name": "LayoutView",
            "grid_template_rows": null,
            "right": null,
            "justify_content": null,
            "_view_module": "@jupyter-widgets/base",
            "overflow": null,
            "_model_module_version": "1.2.0",
            "_view_count": null,
            "flex_flow": null,
            "width": null,
            "min_width": null,
            "border": null,
            "align_items": null,
            "bottom": null,
            "_model_module": "@jupyter-widgets/base",
            "top": null,
            "grid_column": null,
            "overflow_y": null,
            "overflow_x": null,
            "grid_auto_flow": null,
            "grid_area": null,
            "grid_template_columns": null,
            "flex": null,
            "_model_name": "LayoutModel",
            "justify_items": null,
            "grid_row": null,
            "max_height": null,
            "align_content": null,
            "visibility": null,
            "align_self": null,
            "height": null,
            "min_height": null,
            "padding": null,
            "grid_auto_rows": null,
            "grid_gap": null,
            "max_width": null,
            "order": null,
            "_view_module_version": "1.2.0",
            "grid_template_areas": null,
            "object_position": null,
            "object_fit": null,
            "grid_auto_columns": null,
            "margin": null,
            "display": null,
            "left": null
          }
        },
        "1584b4edb62047ccab26f149918ddd7e": {
          "model_module": "@jupyter-widgets/controls",
          "model_name": "FloatProgressModel",
          "state": {
            "_view_name": "ProgressView",
            "style": "IPY_MODEL_4e5ae71d97c44b5f8fa3fe80eb3352db",
            "_dom_classes": [],
            "description": "Extraction completed...: 100%",
            "_model_name": "FloatProgressModel",
            "bar_style": "success",
            "max": 1,
            "_view_module": "@jupyter-widgets/controls",
            "_model_module_version": "1.5.0",
            "value": 1,
            "_view_count": null,
            "_view_module_version": "1.5.0",
            "orientation": "horizontal",
            "min": 0,
            "description_tooltip": null,
            "_model_module": "@jupyter-widgets/controls",
            "layout": "IPY_MODEL_9b4cc9c0ac244014a71c4ed254693209"
          }
        },
        "4fc3fa5222434a5fb869c915393edcb0": {
          "model_module": "@jupyter-widgets/controls",
          "model_name": "HTMLModel",
          "state": {
            "_view_name": "HTMLView",
            "style": "IPY_MODEL_e57625973eae46b5a4990fce26697dc2",
            "_dom_classes": [],
            "description": "",
            "_model_name": "HTMLModel",
            "placeholder": "​",
            "_view_module": "@jupyter-widgets/controls",
            "_model_module_version": "1.5.0",
            "value": " 1/1 [00:05&lt;00:00,  5.86s/ file]",
            "_view_count": null,
            "_view_module_version": "1.5.0",
            "description_tooltip": null,
            "_model_module": "@jupyter-widgets/controls",
            "layout": "IPY_MODEL_2a3dc6f4a39949608dd1cfa39b229810"
          }
        },
        "4e5ae71d97c44b5f8fa3fe80eb3352db": {
          "model_module": "@jupyter-widgets/controls",
          "model_name": "ProgressStyleModel",
          "state": {
            "_view_name": "StyleView",
            "_model_name": "ProgressStyleModel",
            "description_width": "initial",
            "_view_module": "@jupyter-widgets/base",
            "_model_module_version": "1.5.0",
            "_view_count": null,
            "_view_module_version": "1.2.0",
            "bar_color": null,
            "_model_module": "@jupyter-widgets/controls"
          }
        },
        "9b4cc9c0ac244014a71c4ed254693209": {
          "model_module": "@jupyter-widgets/base",
          "model_name": "LayoutModel",
          "state": {
            "_view_name": "LayoutView",
            "grid_template_rows": null,
            "right": null,
            "justify_content": null,
            "_view_module": "@jupyter-widgets/base",
            "overflow": null,
            "_model_module_version": "1.2.0",
            "_view_count": null,
            "flex_flow": null,
            "width": null,
            "min_width": null,
            "border": null,
            "align_items": null,
            "bottom": null,
            "_model_module": "@jupyter-widgets/base",
            "top": null,
            "grid_column": null,
            "overflow_y": null,
            "overflow_x": null,
            "grid_auto_flow": null,
            "grid_area": null,
            "grid_template_columns": null,
            "flex": null,
            "_model_name": "LayoutModel",
            "justify_items": null,
            "grid_row": null,
            "max_height": null,
            "align_content": null,
            "visibility": null,
            "align_self": null,
            "height": null,
            "min_height": null,
            "padding": null,
            "grid_auto_rows": null,
            "grid_gap": null,
            "max_width": null,
            "order": null,
            "_view_module_version": "1.2.0",
            "grid_template_areas": null,
            "object_position": null,
            "object_fit": null,
            "grid_auto_columns": null,
            "margin": null,
            "display": null,
            "left": null
          }
        },
        "e57625973eae46b5a4990fce26697dc2": {
          "model_module": "@jupyter-widgets/controls",
          "model_name": "DescriptionStyleModel",
          "state": {
            "_view_name": "StyleView",
            "_model_name": "DescriptionStyleModel",
            "description_width": "",
            "_view_module": "@jupyter-widgets/base",
            "_model_module_version": "1.5.0",
            "_view_count": null,
            "_view_module_version": "1.2.0",
            "_model_module": "@jupyter-widgets/controls"
          }
        },
        "2a3dc6f4a39949608dd1cfa39b229810": {
          "model_module": "@jupyter-widgets/base",
          "model_name": "LayoutModel",
          "state": {
            "_view_name": "LayoutView",
            "grid_template_rows": null,
            "right": null,
            "justify_content": null,
            "_view_module": "@jupyter-widgets/base",
            "overflow": null,
            "_model_module_version": "1.2.0",
            "_view_count": null,
            "flex_flow": null,
            "width": null,
            "min_width": null,
            "border": null,
            "align_items": null,
            "bottom": null,
            "_model_module": "@jupyter-widgets/base",
            "top": null,
            "grid_column": null,
            "overflow_y": null,
            "overflow_x": null,
            "grid_auto_flow": null,
            "grid_area": null,
            "grid_template_columns": null,
            "flex": null,
            "_model_name": "LayoutModel",
            "justify_items": null,
            "grid_row": null,
            "max_height": null,
            "align_content": null,
            "visibility": null,
            "align_self": null,
            "height": null,
            "min_height": null,
            "padding": null,
            "grid_auto_rows": null,
            "grid_gap": null,
            "max_width": null,
            "order": null,
            "_view_module_version": "1.2.0",
            "grid_template_areas": null,
            "object_position": null,
            "object_fit": null,
            "grid_auto_columns": null,
            "margin": null,
            "display": null,
            "left": null
          }
        },
        "c16f24506f50488c9edc5b2bd880b90b": {
          "model_module": "@jupyter-widgets/controls",
          "model_name": "HBoxModel",
          "state": {
            "_view_name": "HBoxView",
            "_dom_classes": [],
            "_model_name": "HBoxModel",
            "_view_module": "@jupyter-widgets/controls",
            "_model_module_version": "1.5.0",
            "_view_count": null,
            "_view_module_version": "1.5.0",
            "box_style": "",
            "layout": "IPY_MODEL_c5da8674ce244a608a7d89f459fa0be8",
            "_model_module": "@jupyter-widgets/controls",
            "children": [
              "IPY_MODEL_e5a5c7316ceb4374a376cb8993a6b8a7",
              "IPY_MODEL_9ff656bd834340549145cf4c14b068e6"
            ]
          }
        },
        "c5da8674ce244a608a7d89f459fa0be8": {
          "model_module": "@jupyter-widgets/base",
          "model_name": "LayoutModel",
          "state": {
            "_view_name": "LayoutView",
            "grid_template_rows": null,
            "right": null,
            "justify_content": null,
            "_view_module": "@jupyter-widgets/base",
            "overflow": null,
            "_model_module_version": "1.2.0",
            "_view_count": null,
            "flex_flow": null,
            "width": null,
            "min_width": null,
            "border": null,
            "align_items": null,
            "bottom": null,
            "_model_module": "@jupyter-widgets/base",
            "top": null,
            "grid_column": null,
            "overflow_y": null,
            "overflow_x": null,
            "grid_auto_flow": null,
            "grid_area": null,
            "grid_template_columns": null,
            "flex": null,
            "_model_name": "LayoutModel",
            "justify_items": null,
            "grid_row": null,
            "max_height": null,
            "align_content": null,
            "visibility": null,
            "align_self": null,
            "height": null,
            "min_height": null,
            "padding": null,
            "grid_auto_rows": null,
            "grid_gap": null,
            "max_width": null,
            "order": null,
            "_view_module_version": "1.2.0",
            "grid_template_areas": null,
            "object_position": null,
            "object_fit": null,
            "grid_auto_columns": null,
            "margin": null,
            "display": null,
            "left": null
          }
        },
        "e5a5c7316ceb4374a376cb8993a6b8a7": {
          "model_module": "@jupyter-widgets/controls",
          "model_name": "FloatProgressModel",
          "state": {
            "_view_name": "ProgressView",
            "style": "IPY_MODEL_8748dab0eb724b899929bf437ed6d137",
            "_dom_classes": [],
            "description": "",
            "_model_name": "FloatProgressModel",
            "bar_style": "info",
            "max": 1,
            "_view_module": "@jupyter-widgets/controls",
            "_model_module_version": "1.5.0",
            "value": 1,
            "_view_count": null,
            "_view_module_version": "1.5.0",
            "orientation": "horizontal",
            "min": 0,
            "description_tooltip": null,
            "_model_module": "@jupyter-widgets/controls",
            "layout": "IPY_MODEL_2535532737a84d26afdb806b20b27212"
          }
        },
        "9ff656bd834340549145cf4c14b068e6": {
          "model_module": "@jupyter-widgets/controls",
          "model_name": "HTMLModel",
          "state": {
            "_view_name": "HTMLView",
            "style": "IPY_MODEL_3420fa2ca1ad4f468108694f469bd687",
            "_dom_classes": [],
            "description": "",
            "_model_name": "HTMLModel",
            "placeholder": "​",
            "_view_module": "@jupyter-widgets/controls",
            "_model_module_version": "1.5.0",
            "value": " 50000/0 [00:32&lt;00:00, 1873.17 examples/s]",
            "_view_count": null,
            "_view_module_version": "1.5.0",
            "description_tooltip": null,
            "_model_module": "@jupyter-widgets/controls",
            "layout": "IPY_MODEL_1c18fd3d88ee495ebd073f381b510620"
          }
        },
        "8748dab0eb724b899929bf437ed6d137": {
          "model_module": "@jupyter-widgets/controls",
          "model_name": "ProgressStyleModel",
          "state": {
            "_view_name": "StyleView",
            "_model_name": "ProgressStyleModel",
            "description_width": "initial",
            "_view_module": "@jupyter-widgets/base",
            "_model_module_version": "1.5.0",
            "_view_count": null,
            "_view_module_version": "1.2.0",
            "bar_color": null,
            "_model_module": "@jupyter-widgets/controls"
          }
        },
        "2535532737a84d26afdb806b20b27212": {
          "model_module": "@jupyter-widgets/base",
          "model_name": "LayoutModel",
          "state": {
            "_view_name": "LayoutView",
            "grid_template_rows": null,
            "right": null,
            "justify_content": null,
            "_view_module": "@jupyter-widgets/base",
            "overflow": null,
            "_model_module_version": "1.2.0",
            "_view_count": null,
            "flex_flow": null,
            "width": null,
            "min_width": null,
            "border": null,
            "align_items": null,
            "bottom": null,
            "_model_module": "@jupyter-widgets/base",
            "top": null,
            "grid_column": null,
            "overflow_y": null,
            "overflow_x": null,
            "grid_auto_flow": null,
            "grid_area": null,
            "grid_template_columns": null,
            "flex": null,
            "_model_name": "LayoutModel",
            "justify_items": null,
            "grid_row": null,
            "max_height": null,
            "align_content": null,
            "visibility": null,
            "align_self": null,
            "height": null,
            "min_height": null,
            "padding": null,
            "grid_auto_rows": null,
            "grid_gap": null,
            "max_width": null,
            "order": null,
            "_view_module_version": "1.2.0",
            "grid_template_areas": null,
            "object_position": null,
            "object_fit": null,
            "grid_auto_columns": null,
            "margin": null,
            "display": null,
            "left": null
          }
        },
        "3420fa2ca1ad4f468108694f469bd687": {
          "model_module": "@jupyter-widgets/controls",
          "model_name": "DescriptionStyleModel",
          "state": {
            "_view_name": "StyleView",
            "_model_name": "DescriptionStyleModel",
            "description_width": "",
            "_view_module": "@jupyter-widgets/base",
            "_model_module_version": "1.5.0",
            "_view_count": null,
            "_view_module_version": "1.2.0",
            "_model_module": "@jupyter-widgets/controls"
          }
        },
        "1c18fd3d88ee495ebd073f381b510620": {
          "model_module": "@jupyter-widgets/base",
          "model_name": "LayoutModel",
          "state": {
            "_view_name": "LayoutView",
            "grid_template_rows": null,
            "right": null,
            "justify_content": null,
            "_view_module": "@jupyter-widgets/base",
            "overflow": null,
            "_model_module_version": "1.2.0",
            "_view_count": null,
            "flex_flow": null,
            "width": null,
            "min_width": null,
            "border": null,
            "align_items": null,
            "bottom": null,
            "_model_module": "@jupyter-widgets/base",
            "top": null,
            "grid_column": null,
            "overflow_y": null,
            "overflow_x": null,
            "grid_auto_flow": null,
            "grid_area": null,
            "grid_template_columns": null,
            "flex": null,
            "_model_name": "LayoutModel",
            "justify_items": null,
            "grid_row": null,
            "max_height": null,
            "align_content": null,
            "visibility": null,
            "align_self": null,
            "height": null,
            "min_height": null,
            "padding": null,
            "grid_auto_rows": null,
            "grid_gap": null,
            "max_width": null,
            "order": null,
            "_view_module_version": "1.2.0",
            "grid_template_areas": null,
            "object_position": null,
            "object_fit": null,
            "grid_auto_columns": null,
            "margin": null,
            "display": null,
            "left": null
          }
        },
        "2204e3a070f4493ea150d7c1747b147b": {
          "model_module": "@jupyter-widgets/controls",
          "model_name": "HBoxModel",
          "state": {
            "_view_name": "HBoxView",
            "_dom_classes": [],
            "_model_name": "HBoxModel",
            "_view_module": "@jupyter-widgets/controls",
            "_model_module_version": "1.5.0",
            "_view_count": null,
            "_view_module_version": "1.5.0",
            "box_style": "",
            "layout": "IPY_MODEL_789c5fd5e5bc443796c0f13113101f03",
            "_model_module": "@jupyter-widgets/controls",
            "children": [
              "IPY_MODEL_5e2f9ce179e04771ac4fabaa0342c16b",
              "IPY_MODEL_c358818896ea43cbac25e73b7b283ea3"
            ]
          }
        },
        "789c5fd5e5bc443796c0f13113101f03": {
          "model_module": "@jupyter-widgets/base",
          "model_name": "LayoutModel",
          "state": {
            "_view_name": "LayoutView",
            "grid_template_rows": null,
            "right": null,
            "justify_content": null,
            "_view_module": "@jupyter-widgets/base",
            "overflow": null,
            "_model_module_version": "1.2.0",
            "_view_count": null,
            "flex_flow": null,
            "width": null,
            "min_width": null,
            "border": null,
            "align_items": null,
            "bottom": null,
            "_model_module": "@jupyter-widgets/base",
            "top": null,
            "grid_column": null,
            "overflow_y": null,
            "overflow_x": null,
            "grid_auto_flow": null,
            "grid_area": null,
            "grid_template_columns": null,
            "flex": null,
            "_model_name": "LayoutModel",
            "justify_items": null,
            "grid_row": null,
            "max_height": null,
            "align_content": null,
            "visibility": null,
            "align_self": null,
            "height": null,
            "min_height": null,
            "padding": null,
            "grid_auto_rows": null,
            "grid_gap": null,
            "max_width": null,
            "order": null,
            "_view_module_version": "1.2.0",
            "grid_template_areas": null,
            "object_position": null,
            "object_fit": null,
            "grid_auto_columns": null,
            "margin": null,
            "display": null,
            "left": null
          }
        },
        "5e2f9ce179e04771ac4fabaa0342c16b": {
          "model_module": "@jupyter-widgets/controls",
          "model_name": "FloatProgressModel",
          "state": {
            "_view_name": "ProgressView",
            "style": "IPY_MODEL_217521ed1967416eb0541fa8935ccea6",
            "_dom_classes": [],
            "description": " 77%",
            "_model_name": "FloatProgressModel",
            "bar_style": "danger",
            "max": 50000,
            "_view_module": "@jupyter-widgets/controls",
            "_model_module_version": "1.5.0",
            "value": 38580,
            "_view_count": null,
            "_view_module_version": "1.5.0",
            "orientation": "horizontal",
            "min": 0,
            "description_tooltip": null,
            "_model_module": "@jupyter-widgets/controls",
            "layout": "IPY_MODEL_9fb70797c2674d9ab3fc898668292dae"
          }
        },
        "c358818896ea43cbac25e73b7b283ea3": {
          "model_module": "@jupyter-widgets/controls",
          "model_name": "HTMLModel",
          "state": {
            "_view_name": "HTMLView",
            "style": "IPY_MODEL_e7c1d854745d4297a75fb8ee1c858895",
            "_dom_classes": [],
            "description": "",
            "_model_name": "HTMLModel",
            "placeholder": "​",
            "_view_module": "@jupyter-widgets/controls",
            "_model_module_version": "1.5.0",
            "value": " 38580/50000 [00:02&lt;00:00, 60199.86 examples/s]",
            "_view_count": null,
            "_view_module_version": "1.5.0",
            "description_tooltip": null,
            "_model_module": "@jupyter-widgets/controls",
            "layout": "IPY_MODEL_55230add45be4290af6d9b823f908b81"
          }
        },
        "217521ed1967416eb0541fa8935ccea6": {
          "model_module": "@jupyter-widgets/controls",
          "model_name": "ProgressStyleModel",
          "state": {
            "_view_name": "StyleView",
            "_model_name": "ProgressStyleModel",
            "description_width": "initial",
            "_view_module": "@jupyter-widgets/base",
            "_model_module_version": "1.5.0",
            "_view_count": null,
            "_view_module_version": "1.2.0",
            "bar_color": null,
            "_model_module": "@jupyter-widgets/controls"
          }
        },
        "9fb70797c2674d9ab3fc898668292dae": {
          "model_module": "@jupyter-widgets/base",
          "model_name": "LayoutModel",
          "state": {
            "_view_name": "LayoutView",
            "grid_template_rows": null,
            "right": null,
            "justify_content": null,
            "_view_module": "@jupyter-widgets/base",
            "overflow": null,
            "_model_module_version": "1.2.0",
            "_view_count": null,
            "flex_flow": null,
            "width": null,
            "min_width": null,
            "border": null,
            "align_items": null,
            "bottom": null,
            "_model_module": "@jupyter-widgets/base",
            "top": null,
            "grid_column": null,
            "overflow_y": null,
            "overflow_x": null,
            "grid_auto_flow": null,
            "grid_area": null,
            "grid_template_columns": null,
            "flex": null,
            "_model_name": "LayoutModel",
            "justify_items": null,
            "grid_row": null,
            "max_height": null,
            "align_content": null,
            "visibility": null,
            "align_self": null,
            "height": null,
            "min_height": null,
            "padding": null,
            "grid_auto_rows": null,
            "grid_gap": null,
            "max_width": null,
            "order": null,
            "_view_module_version": "1.2.0",
            "grid_template_areas": null,
            "object_position": null,
            "object_fit": null,
            "grid_auto_columns": null,
            "margin": null,
            "display": null,
            "left": null
          }
        },
        "e7c1d854745d4297a75fb8ee1c858895": {
          "model_module": "@jupyter-widgets/controls",
          "model_name": "DescriptionStyleModel",
          "state": {
            "_view_name": "StyleView",
            "_model_name": "DescriptionStyleModel",
            "description_width": "",
            "_view_module": "@jupyter-widgets/base",
            "_model_module_version": "1.5.0",
            "_view_count": null,
            "_view_module_version": "1.2.0",
            "_model_module": "@jupyter-widgets/controls"
          }
        },
        "55230add45be4290af6d9b823f908b81": {
          "model_module": "@jupyter-widgets/base",
          "model_name": "LayoutModel",
          "state": {
            "_view_name": "LayoutView",
            "grid_template_rows": null,
            "right": null,
            "justify_content": null,
            "_view_module": "@jupyter-widgets/base",
            "overflow": null,
            "_model_module_version": "1.2.0",
            "_view_count": null,
            "flex_flow": null,
            "width": null,
            "min_width": null,
            "border": null,
            "align_items": null,
            "bottom": null,
            "_model_module": "@jupyter-widgets/base",
            "top": null,
            "grid_column": null,
            "overflow_y": null,
            "overflow_x": null,
            "grid_auto_flow": null,
            "grid_area": null,
            "grid_template_columns": null,
            "flex": null,
            "_model_name": "LayoutModel",
            "justify_items": null,
            "grid_row": null,
            "max_height": null,
            "align_content": null,
            "visibility": null,
            "align_self": null,
            "height": null,
            "min_height": null,
            "padding": null,
            "grid_auto_rows": null,
            "grid_gap": null,
            "max_width": null,
            "order": null,
            "_view_module_version": "1.2.0",
            "grid_template_areas": null,
            "object_position": null,
            "object_fit": null,
            "grid_auto_columns": null,
            "margin": null,
            "display": null,
            "left": null
          }
        },
        "9f9072dfc779428abd9f43b8162805e5": {
          "model_module": "@jupyter-widgets/controls",
          "model_name": "HBoxModel",
          "state": {
            "_view_name": "HBoxView",
            "_dom_classes": [],
            "_model_name": "HBoxModel",
            "_view_module": "@jupyter-widgets/controls",
            "_model_module_version": "1.5.0",
            "_view_count": null,
            "_view_module_version": "1.5.0",
            "box_style": "",
            "layout": "IPY_MODEL_cb30555be2cf4b7eb32e397b8c186534",
            "_model_module": "@jupyter-widgets/controls",
            "children": [
              "IPY_MODEL_bcbf1793069c43138199b362b4ee0f55",
              "IPY_MODEL_3c59e502245846e4ae9e7b0069685fc7"
            ]
          }
        },
        "cb30555be2cf4b7eb32e397b8c186534": {
          "model_module": "@jupyter-widgets/base",
          "model_name": "LayoutModel",
          "state": {
            "_view_name": "LayoutView",
            "grid_template_rows": null,
            "right": null,
            "justify_content": null,
            "_view_module": "@jupyter-widgets/base",
            "overflow": null,
            "_model_module_version": "1.2.0",
            "_view_count": null,
            "flex_flow": null,
            "width": null,
            "min_width": null,
            "border": null,
            "align_items": null,
            "bottom": null,
            "_model_module": "@jupyter-widgets/base",
            "top": null,
            "grid_column": null,
            "overflow_y": null,
            "overflow_x": null,
            "grid_auto_flow": null,
            "grid_area": null,
            "grid_template_columns": null,
            "flex": null,
            "_model_name": "LayoutModel",
            "justify_items": null,
            "grid_row": null,
            "max_height": null,
            "align_content": null,
            "visibility": null,
            "align_self": null,
            "height": null,
            "min_height": null,
            "padding": null,
            "grid_auto_rows": null,
            "grid_gap": null,
            "max_width": null,
            "order": null,
            "_view_module_version": "1.2.0",
            "grid_template_areas": null,
            "object_position": null,
            "object_fit": null,
            "grid_auto_columns": null,
            "margin": null,
            "display": null,
            "left": null
          }
        },
        "bcbf1793069c43138199b362b4ee0f55": {
          "model_module": "@jupyter-widgets/controls",
          "model_name": "FloatProgressModel",
          "state": {
            "_view_name": "ProgressView",
            "style": "IPY_MODEL_bde327b79c444778b4291b1b024b57bd",
            "_dom_classes": [],
            "description": "",
            "_model_name": "FloatProgressModel",
            "bar_style": "info",
            "max": 1,
            "_view_module": "@jupyter-widgets/controls",
            "_model_module_version": "1.5.0",
            "value": 1,
            "_view_count": null,
            "_view_module_version": "1.5.0",
            "orientation": "horizontal",
            "min": 0,
            "description_tooltip": null,
            "_model_module": "@jupyter-widgets/controls",
            "layout": "IPY_MODEL_db8467f37c714cdf84e2e0d6421a0c3c"
          }
        },
        "3c59e502245846e4ae9e7b0069685fc7": {
          "model_module": "@jupyter-widgets/controls",
          "model_name": "HTMLModel",
          "state": {
            "_view_name": "HTMLView",
            "style": "IPY_MODEL_ba7e0966a50f4cd89eb0ca722c716abb",
            "_dom_classes": [],
            "description": "",
            "_model_name": "HTMLModel",
            "placeholder": "​",
            "_view_module": "@jupyter-widgets/controls",
            "_model_module_version": "1.5.0",
            "value": " 10000/0 [00:05&lt;00:00, 1821.52 examples/s]",
            "_view_count": null,
            "_view_module_version": "1.5.0",
            "description_tooltip": null,
            "_model_module": "@jupyter-widgets/controls",
            "layout": "IPY_MODEL_a48e5f1f10ec4f078ea5939ebd4b9128"
          }
        },
        "bde327b79c444778b4291b1b024b57bd": {
          "model_module": "@jupyter-widgets/controls",
          "model_name": "ProgressStyleModel",
          "state": {
            "_view_name": "StyleView",
            "_model_name": "ProgressStyleModel",
            "description_width": "initial",
            "_view_module": "@jupyter-widgets/base",
            "_model_module_version": "1.5.0",
            "_view_count": null,
            "_view_module_version": "1.2.0",
            "bar_color": null,
            "_model_module": "@jupyter-widgets/controls"
          }
        },
        "db8467f37c714cdf84e2e0d6421a0c3c": {
          "model_module": "@jupyter-widgets/base",
          "model_name": "LayoutModel",
          "state": {
            "_view_name": "LayoutView",
            "grid_template_rows": null,
            "right": null,
            "justify_content": null,
            "_view_module": "@jupyter-widgets/base",
            "overflow": null,
            "_model_module_version": "1.2.0",
            "_view_count": null,
            "flex_flow": null,
            "width": null,
            "min_width": null,
            "border": null,
            "align_items": null,
            "bottom": null,
            "_model_module": "@jupyter-widgets/base",
            "top": null,
            "grid_column": null,
            "overflow_y": null,
            "overflow_x": null,
            "grid_auto_flow": null,
            "grid_area": null,
            "grid_template_columns": null,
            "flex": null,
            "_model_name": "LayoutModel",
            "justify_items": null,
            "grid_row": null,
            "max_height": null,
            "align_content": null,
            "visibility": null,
            "align_self": null,
            "height": null,
            "min_height": null,
            "padding": null,
            "grid_auto_rows": null,
            "grid_gap": null,
            "max_width": null,
            "order": null,
            "_view_module_version": "1.2.0",
            "grid_template_areas": null,
            "object_position": null,
            "object_fit": null,
            "grid_auto_columns": null,
            "margin": null,
            "display": null,
            "left": null
          }
        },
        "ba7e0966a50f4cd89eb0ca722c716abb": {
          "model_module": "@jupyter-widgets/controls",
          "model_name": "DescriptionStyleModel",
          "state": {
            "_view_name": "StyleView",
            "_model_name": "DescriptionStyleModel",
            "description_width": "",
            "_view_module": "@jupyter-widgets/base",
            "_model_module_version": "1.5.0",
            "_view_count": null,
            "_view_module_version": "1.2.0",
            "_model_module": "@jupyter-widgets/controls"
          }
        },
        "a48e5f1f10ec4f078ea5939ebd4b9128": {
          "model_module": "@jupyter-widgets/base",
          "model_name": "LayoutModel",
          "state": {
            "_view_name": "LayoutView",
            "grid_template_rows": null,
            "right": null,
            "justify_content": null,
            "_view_module": "@jupyter-widgets/base",
            "overflow": null,
            "_model_module_version": "1.2.0",
            "_view_count": null,
            "flex_flow": null,
            "width": null,
            "min_width": null,
            "border": null,
            "align_items": null,
            "bottom": null,
            "_model_module": "@jupyter-widgets/base",
            "top": null,
            "grid_column": null,
            "overflow_y": null,
            "overflow_x": null,
            "grid_auto_flow": null,
            "grid_area": null,
            "grid_template_columns": null,
            "flex": null,
            "_model_name": "LayoutModel",
            "justify_items": null,
            "grid_row": null,
            "max_height": null,
            "align_content": null,
            "visibility": null,
            "align_self": null,
            "height": null,
            "min_height": null,
            "padding": null,
            "grid_auto_rows": null,
            "grid_gap": null,
            "max_width": null,
            "order": null,
            "_view_module_version": "1.2.0",
            "grid_template_areas": null,
            "object_position": null,
            "object_fit": null,
            "grid_auto_columns": null,
            "margin": null,
            "display": null,
            "left": null
          }
        },
        "e8ffdecf49f747f1adaec8eca3817366": {
          "model_module": "@jupyter-widgets/controls",
          "model_name": "HBoxModel",
          "state": {
            "_view_name": "HBoxView",
            "_dom_classes": [],
            "_model_name": "HBoxModel",
            "_view_module": "@jupyter-widgets/controls",
            "_model_module_version": "1.5.0",
            "_view_count": null,
            "_view_module_version": "1.5.0",
            "box_style": "",
            "layout": "IPY_MODEL_ff200dc1d3b34519a22c6fe4a6bb5f6d",
            "_model_module": "@jupyter-widgets/controls",
            "children": [
              "IPY_MODEL_6bd282bb78ef487594d3b571a7145f16",
              "IPY_MODEL_a4ab73c0de274408b8865277f8b0fb4d"
            ]
          }
        },
        "ff200dc1d3b34519a22c6fe4a6bb5f6d": {
          "model_module": "@jupyter-widgets/base",
          "model_name": "LayoutModel",
          "state": {
            "_view_name": "LayoutView",
            "grid_template_rows": null,
            "right": null,
            "justify_content": null,
            "_view_module": "@jupyter-widgets/base",
            "overflow": null,
            "_model_module_version": "1.2.0",
            "_view_count": null,
            "flex_flow": null,
            "width": null,
            "min_width": null,
            "border": null,
            "align_items": null,
            "bottom": null,
            "_model_module": "@jupyter-widgets/base",
            "top": null,
            "grid_column": null,
            "overflow_y": null,
            "overflow_x": null,
            "grid_auto_flow": null,
            "grid_area": null,
            "grid_template_columns": null,
            "flex": null,
            "_model_name": "LayoutModel",
            "justify_items": null,
            "grid_row": null,
            "max_height": null,
            "align_content": null,
            "visibility": null,
            "align_self": null,
            "height": null,
            "min_height": null,
            "padding": null,
            "grid_auto_rows": null,
            "grid_gap": null,
            "max_width": null,
            "order": null,
            "_view_module_version": "1.2.0",
            "grid_template_areas": null,
            "object_position": null,
            "object_fit": null,
            "grid_auto_columns": null,
            "margin": null,
            "display": null,
            "left": null
          }
        },
        "6bd282bb78ef487594d3b571a7145f16": {
          "model_module": "@jupyter-widgets/controls",
          "model_name": "FloatProgressModel",
          "state": {
            "_view_name": "ProgressView",
            "style": "IPY_MODEL_31cfc12971d94a7f875234236a118a4e",
            "_dom_classes": [],
            "description": "  0%",
            "_model_name": "FloatProgressModel",
            "bar_style": "danger",
            "max": 10000,
            "_view_module": "@jupyter-widgets/controls",
            "_model_module_version": "1.5.0",
            "value": 0,
            "_view_count": null,
            "_view_module_version": "1.5.0",
            "orientation": "horizontal",
            "min": 0,
            "description_tooltip": null,
            "_model_module": "@jupyter-widgets/controls",
            "layout": "IPY_MODEL_1411c222d02241ea8ce41bf8c554a539"
          }
        },
        "a4ab73c0de274408b8865277f8b0fb4d": {
          "model_module": "@jupyter-widgets/controls",
          "model_name": "HTMLModel",
          "state": {
            "_view_name": "HTMLView",
            "style": "IPY_MODEL_a3e126b5368548ec9c776bfd6ed973ae",
            "_dom_classes": [],
            "description": "",
            "_model_name": "HTMLModel",
            "placeholder": "​",
            "_view_module": "@jupyter-widgets/controls",
            "_model_module_version": "1.5.0",
            "value": " 0/10000 [00:00&lt;?, ? examples/s]",
            "_view_count": null,
            "_view_module_version": "1.5.0",
            "description_tooltip": null,
            "_model_module": "@jupyter-widgets/controls",
            "layout": "IPY_MODEL_fa513ec90b104702a78797d08b011e89"
          }
        },
        "31cfc12971d94a7f875234236a118a4e": {
          "model_module": "@jupyter-widgets/controls",
          "model_name": "ProgressStyleModel",
          "state": {
            "_view_name": "StyleView",
            "_model_name": "ProgressStyleModel",
            "description_width": "initial",
            "_view_module": "@jupyter-widgets/base",
            "_model_module_version": "1.5.0",
            "_view_count": null,
            "_view_module_version": "1.2.0",
            "bar_color": null,
            "_model_module": "@jupyter-widgets/controls"
          }
        },
        "1411c222d02241ea8ce41bf8c554a539": {
          "model_module": "@jupyter-widgets/base",
          "model_name": "LayoutModel",
          "state": {
            "_view_name": "LayoutView",
            "grid_template_rows": null,
            "right": null,
            "justify_content": null,
            "_view_module": "@jupyter-widgets/base",
            "overflow": null,
            "_model_module_version": "1.2.0",
            "_view_count": null,
            "flex_flow": null,
            "width": null,
            "min_width": null,
            "border": null,
            "align_items": null,
            "bottom": null,
            "_model_module": "@jupyter-widgets/base",
            "top": null,
            "grid_column": null,
            "overflow_y": null,
            "overflow_x": null,
            "grid_auto_flow": null,
            "grid_area": null,
            "grid_template_columns": null,
            "flex": null,
            "_model_name": "LayoutModel",
            "justify_items": null,
            "grid_row": null,
            "max_height": null,
            "align_content": null,
            "visibility": null,
            "align_self": null,
            "height": null,
            "min_height": null,
            "padding": null,
            "grid_auto_rows": null,
            "grid_gap": null,
            "max_width": null,
            "order": null,
            "_view_module_version": "1.2.0",
            "grid_template_areas": null,
            "object_position": null,
            "object_fit": null,
            "grid_auto_columns": null,
            "margin": null,
            "display": null,
            "left": null
          }
        },
        "a3e126b5368548ec9c776bfd6ed973ae": {
          "model_module": "@jupyter-widgets/controls",
          "model_name": "DescriptionStyleModel",
          "state": {
            "_view_name": "StyleView",
            "_model_name": "DescriptionStyleModel",
            "description_width": "",
            "_view_module": "@jupyter-widgets/base",
            "_model_module_version": "1.5.0",
            "_view_count": null,
            "_view_module_version": "1.2.0",
            "_model_module": "@jupyter-widgets/controls"
          }
        },
        "fa513ec90b104702a78797d08b011e89": {
          "model_module": "@jupyter-widgets/base",
          "model_name": "LayoutModel",
          "state": {
            "_view_name": "LayoutView",
            "grid_template_rows": null,
            "right": null,
            "justify_content": null,
            "_view_module": "@jupyter-widgets/base",
            "overflow": null,
            "_model_module_version": "1.2.0",
            "_view_count": null,
            "flex_flow": null,
            "width": null,
            "min_width": null,
            "border": null,
            "align_items": null,
            "bottom": null,
            "_model_module": "@jupyter-widgets/base",
            "top": null,
            "grid_column": null,
            "overflow_y": null,
            "overflow_x": null,
            "grid_auto_flow": null,
            "grid_area": null,
            "grid_template_columns": null,
            "flex": null,
            "_model_name": "LayoutModel",
            "justify_items": null,
            "grid_row": null,
            "max_height": null,
            "align_content": null,
            "visibility": null,
            "align_self": null,
            "height": null,
            "min_height": null,
            "padding": null,
            "grid_auto_rows": null,
            "grid_gap": null,
            "max_width": null,
            "order": null,
            "_view_module_version": "1.2.0",
            "grid_template_areas": null,
            "object_position": null,
            "object_fit": null,
            "grid_auto_columns": null,
            "margin": null,
            "display": null,
            "left": null
          }
        }
      }
    },
    "accelerator": "GPU"
  },
  "cells": [
    {
      "cell_type": "markdown",
      "metadata": {
        "id": "8sKIESvT7SxM"
      },
      "source": [
        "# ENGHACK2021: Introduction to TensorFlow/Keras, By Andrew Shao\n",
        "\n",
        "> CIFAR-10 Tutorial, the full Deep Learning Pipeline\n",
        "\n",
        "\n",
        "![resized-image-Promo.jpeg](data:image/jpeg;base64,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)\n",
        "\n",
        "\n"
      ]
    },
    {
      "cell_type": "markdown",
      "metadata": {
        "id": "-8s2XMLy7jfZ"
      },
      "source": [
        "# 1) Understanding the Problem\n",
        "- In this tutorial, our goal is to classify images into 10 classes using Deep Learning\n",
        "- This system could be used for visual recognition and surveillance systems."
      ]
    },
    {
      "cell_type": "markdown",
      "metadata": {
        "id": "-NkZHQrz70mX"
      },
      "source": [
        "# 2) Find Data\n",
        "- A simple dataset for this task is CIFAR10\n",
        "\n",
        "Properties of the Dataset:\n",
        "- 32x32 RGB images\n",
        "- 60000 images, with 10 classes\n",
        "- 6000 images per class, equal class distribution"
      ]
    },
    {
      "cell_type": "markdown",
      "metadata": {
        "id": "tRsFc1zk8HJe"
      },
      "source": [
        "Import the Dependencies(tensorFlow + Keras, numpy, pandas, etc.)"
      ]
    },
    {
      "cell_type": "code",
      "metadata": {
        "id": "OLjlpvy87QAU"
      },
      "source": [
        "import tensorflow as tf\n",
        "import tensorflow.keras as keras # TensorFlow + Keras\n",
        "import numpy as np\n",
        "import pandas as pd # Data science modules\n",
        "import tensorflow_datasets as tfds # Load datasets\n",
        "# Visualization Imports\n",
        "import matplotlib.pyplot as plt # Image Visualization"
      ],
      "execution_count": 1,
      "outputs": []
    },
    {
      "cell_type": "code",
      "metadata": {
        "id": "62D4S4yb7jLL",
        "colab": {
          "base_uri": "https://localhost:8080/",
          "height": 371,
          "referenced_widgets": [
            "8a502152329a4be1abd20ccd6019c4ec",
            "7c2e276d7f654b24a257dfeebaae0dca",
            "2ae5a970d9374382ac29a1d6f639d190",
            "5b61856a54fc4a45b19b834c328e7028",
            "815f66b5c6804b018bcd494d3f5b0f00",
            "e392f5ee43604ffba66d611720c11ca1",
            "c725c3fe7f9f42fd908eb8810a206df6",
            "e5ea13a3f9c84f51b0fd1157a3822186",
            "7c60b4a253d54b09acc11ff2aed14509",
            "4561a54eb0374eb6b13c50963bd79287",
            "9e2722b8612042c4855df7c90f30e123",
            "b1a54aa262c645f59c79d0c9ba1e428a",
            "33f98891772b47fe9d1c39656787dc92",
            "24011f0a819f4a2ea0d9f320fcb04f3c",
            "27fd1d9bd322490eace114048c2ff9a0",
            "030caee35c524e8a98ca18d43ee05da1",
            "514fcc441e94476298cf2827f02f4007",
            "164d579e8c8b4ccb9fb68da5c51e2aff",
            "1584b4edb62047ccab26f149918ddd7e",
            "4fc3fa5222434a5fb869c915393edcb0",
            "4e5ae71d97c44b5f8fa3fe80eb3352db",
            "9b4cc9c0ac244014a71c4ed254693209",
            "e57625973eae46b5a4990fce26697dc2",
            "2a3dc6f4a39949608dd1cfa39b229810",
            "c16f24506f50488c9edc5b2bd880b90b",
            "c5da8674ce244a608a7d89f459fa0be8",
            "e5a5c7316ceb4374a376cb8993a6b8a7",
            "9ff656bd834340549145cf4c14b068e6",
            "8748dab0eb724b899929bf437ed6d137",
            "2535532737a84d26afdb806b20b27212",
            "3420fa2ca1ad4f468108694f469bd687",
            "1c18fd3d88ee495ebd073f381b510620",
            "2204e3a070f4493ea150d7c1747b147b",
            "789c5fd5e5bc443796c0f13113101f03",
            "5e2f9ce179e04771ac4fabaa0342c16b",
            "c358818896ea43cbac25e73b7b283ea3",
            "217521ed1967416eb0541fa8935ccea6",
            "9fb70797c2674d9ab3fc898668292dae",
            "e7c1d854745d4297a75fb8ee1c858895",
            "55230add45be4290af6d9b823f908b81",
            "9f9072dfc779428abd9f43b8162805e5",
            "cb30555be2cf4b7eb32e397b8c186534",
            "bcbf1793069c43138199b362b4ee0f55",
            "3c59e502245846e4ae9e7b0069685fc7",
            "bde327b79c444778b4291b1b024b57bd",
            "db8467f37c714cdf84e2e0d6421a0c3c",
            "ba7e0966a50f4cd89eb0ca722c716abb",
            "a48e5f1f10ec4f078ea5939ebd4b9128",
            "e8ffdecf49f747f1adaec8eca3817366",
            "ff200dc1d3b34519a22c6fe4a6bb5f6d",
            "6bd282bb78ef487594d3b571a7145f16",
            "a4ab73c0de274408b8865277f8b0fb4d",
            "31cfc12971d94a7f875234236a118a4e",
            "1411c222d02241ea8ce41bf8c554a539",
            "a3e126b5368548ec9c776bfd6ed973ae",
            "fa513ec90b104702a78797d08b011e89"
          ]
        },
        "outputId": "2937c11a-46ff-45a8-e791-a8a7b6094e6a"
      },
      "source": [
        "datasets = tfds.load('cifar10') # Download the Dataset(This may take a few minutes)"
      ],
      "execution_count": 2,
      "outputs": [
        {
          "output_type": "stream",
          "text": [
            "\u001b[1mDownloading and preparing dataset cifar10/3.0.2 (download: 162.17 MiB, generated: 132.40 MiB, total: 294.58 MiB) to /root/tensorflow_datasets/cifar10/3.0.2...\u001b[0m\n"
          ],
          "name": "stdout"
        },
        {
          "output_type": "display_data",
          "data": {
            "application/vnd.jupyter.widget-view+json": {
              "model_id": "8a502152329a4be1abd20ccd6019c4ec",
              "version_minor": 0,
              "version_major": 2
            },
            "text/plain": [
              "HBox(children=(FloatProgress(value=1.0, bar_style='info', description='Dl Completed...', max=1.0, style=Progre…"
            ]
          },
          "metadata": {
            "tags": []
          }
        },
        {
          "output_type": "display_data",
          "data": {
            "application/vnd.jupyter.widget-view+json": {
              "model_id": "7c60b4a253d54b09acc11ff2aed14509",
              "version_minor": 0,
              "version_major": 2
            },
            "text/plain": [
              "HBox(children=(FloatProgress(value=1.0, bar_style='info', description='Dl Size...', max=1.0, style=ProgressSty…"
            ]
          },
          "metadata": {
            "tags": []
          }
        },
        {
          "output_type": "display_data",
          "data": {
            "application/vnd.jupyter.widget-view+json": {
              "model_id": "514fcc441e94476298cf2827f02f4007",
              "version_minor": 0,
              "version_major": 2
            },
            "text/plain": [
              "HBox(children=(FloatProgress(value=1.0, bar_style='info', description='Extraction completed...', max=1.0, styl…"
            ]
          },
          "metadata": {
            "tags": []
          }
        },
        {
          "output_type": "stream",
          "text": [
            "\n",
            "\n",
            "\n",
            "\n",
            "\n",
            "\n"
          ],
          "name": "stdout"
        },
        {
          "output_type": "display_data",
          "data": {
            "application/vnd.jupyter.widget-view+json": {
              "model_id": "c16f24506f50488c9edc5b2bd880b90b",
              "version_minor": 0,
              "version_major": 2
            },
            "text/plain": [
              "HBox(children=(FloatProgress(value=1.0, bar_style='info', max=1.0), HTML(value='')))"
            ]
          },
          "metadata": {
            "tags": []
          }
        },
        {
          "output_type": "stream",
          "text": [
            "\rShuffling and writing examples to /root/tensorflow_datasets/cifar10/3.0.2.incompleteD5O0QF/cifar10-train.tfrecord\n"
          ],
          "name": "stdout"
        },
        {
          "output_type": "display_data",
          "data": {
            "application/vnd.jupyter.widget-view+json": {
              "model_id": "2204e3a070f4493ea150d7c1747b147b",
              "version_minor": 0,
              "version_major": 2
            },
            "text/plain": [
              "HBox(children=(FloatProgress(value=0.0, max=50000.0), HTML(value='')))"
            ]
          },
          "metadata": {
            "tags": []
          }
        },
        {
          "output_type": "display_data",
          "data": {
            "application/vnd.jupyter.widget-view+json": {
              "model_id": "9f9072dfc779428abd9f43b8162805e5",
              "version_minor": 0,
              "version_major": 2
            },
            "text/plain": [
              "HBox(children=(FloatProgress(value=1.0, bar_style='info', max=1.0), HTML(value='')))"
            ]
          },
          "metadata": {
            "tags": []
          }
        },
        {
          "output_type": "stream",
          "text": [
            "\rShuffling and writing examples to /root/tensorflow_datasets/cifar10/3.0.2.incompleteD5O0QF/cifar10-test.tfrecord\n"
          ],
          "name": "stdout"
        },
        {
          "output_type": "display_data",
          "data": {
            "application/vnd.jupyter.widget-view+json": {
              "model_id": "e8ffdecf49f747f1adaec8eca3817366",
              "version_minor": 0,
              "version_major": 2
            },
            "text/plain": [
              "HBox(children=(FloatProgress(value=0.0, max=10000.0), HTML(value='')))"
            ]
          },
          "metadata": {
            "tags": []
          }
        },
        {
          "output_type": "stream",
          "text": [
            "\u001b[1mDataset cifar10 downloaded and prepared to /root/tensorflow_datasets/cifar10/3.0.2. Subsequent calls will reuse this data.\u001b[0m\n",
            "\r"
          ],
          "name": "stdout"
        }
      ]
    },
    {
      "cell_type": "code",
      "metadata": {
        "colab": {
          "base_uri": "https://localhost:8080/"
        },
        "id": "sc56rY_w9UtH",
        "outputId": "df686f6e-4bed-4c1f-9e60-bb4c790ae41b"
      },
      "source": [
        "# Look inside the Datasets\n",
        "# NOTE: For convenience, TensorFlow Datasets already gives a tf.data.Dataset for you, which simplifies the data pipeline\n",
        "datasets"
      ],
      "execution_count": 3,
      "outputs": [
        {
          "output_type": "execute_result",
          "data": {
            "text/plain": [
              "{'test': <PrefetchDataset shapes: {id: (), image: (32, 32, 3), label: ()}, types: {id: tf.string, image: tf.uint8, label: tf.int64}>,\n",
              " 'train': <PrefetchDataset shapes: {id: (), image: (32, 32, 3), label: ()}, types: {id: tf.string, image: tf.uint8, label: tf.int64}>}"
            ]
          },
          "metadata": {
            "tags": []
          },
          "execution_count": 3
        }
      ]
    },
    {
      "cell_type": "markdown",
      "metadata": {
        "id": "9GnILmg68lTy"
      },
      "source": [
        "# 3) Process Data\n",
        "- Perform an Exploratory Data Analysis(EDA)\n",
        "- Preprocess and create a basic data pipeline"
      ]
    },
    {
      "cell_type": "code",
      "metadata": {
        "id": "Qnnt_tsQCKCp"
      },
      "source": [
        "# Classes to IDX\n",
        "ALL_CLASSES = [\n",
        "  'airplane',\t\t\t\t\t\t\t\t\t\t\n",
        "  'automobile',\n",
        "  'bird',\t\t\t\t\t\t\t\t\t\t\n",
        "  'cat',\t\t\t\t\t\t\t\t\t\t\n",
        "  'deer',\t\t\t\t\t\t\t\t\t\t\n",
        "  'dog',\t\t\t\t\t\t\t\t\t\t\n",
        "  'frog',\t\t\t\t\t\t\t\t\t\n",
        "  'horse',\t\t\t\t\t\t\t\t\t\t\n",
        "  'ship',\t\t\t\t\t\t\t\t\t\t\n",
        "  'truck'\n",
        "]\n",
        "# Generate Class2Idx\n",
        "CLASS2IDX = {ALL_CLASSES[idx]: idx for idx in range(len(ALL_CLASSES))} # dictionary comprehension\n",
        "IDX2CLASS = {idx: ALL_CLASSES[idx] for idx in range(len(ALL_CLASSES))}\n",
        "NUM_CLASSES = len(ALL_CLASSES)"
      ],
      "execution_count": 4,
      "outputs": []
    },
    {
      "cell_type": "code",
      "metadata": {
        "id": "AEDtGXcC-MAJ"
      },
      "source": [
        "# Grab Train and Test Dataset \n",
        "train_dataset = datasets['train'] # 50000 images\n",
        "test_dataset = datasets['test'] # 10000 images\n",
        "\n",
        "test_len = len(test_dataset) \n",
        "\n",
        "val_split = 0.1\n",
        "val_len = int(len(train_dataset) * val_split) # 5000 Samples\n",
        "train_len = len(train_dataset) - val_len # 45000 Samples\n"
      ],
      "execution_count": 5,
      "outputs": []
    },
    {
      "cell_type": "code",
      "metadata": {
        "id": "K6p5xRbH_iK3"
      },
      "source": [
        "# TO AVOID DATA LEAKAGE, CREATE A VALIDATION SET(1 / 10th of the dataset):\n",
        "train_dataset = train_dataset.shuffle(5000) # Shuffle the dataset first, for randomness, with shuffle buffer 5000\n",
        "train_split = train_dataset.take(train_len) # Grab the first 45000 samples\n",
        "val_split = train_dataset.skip(val_len)"
      ],
      "execution_count": 6,
      "outputs": []
    },
    {
      "cell_type": "code",
      "metadata": {
        "id": "u4YxkRgyA0o3"
      },
      "source": [
        "# Just rename the variables\n",
        "train_dataset = train_split\n",
        "val_dataset = val_split"
      ],
      "execution_count": 7,
      "outputs": []
    },
    {
      "cell_type": "markdown",
      "metadata": {
        "id": "T1DnxjbX-GHc"
      },
      "source": [
        "Basic Visualization of Images(Exploratory Data Analysis)"
      ]
    },
    {
      "cell_type": "code",
      "metadata": {
        "colab": {
          "base_uri": "https://localhost:8080/",
          "height": 866
        },
        "id": "umsxqYDF-Ffq",
        "outputId": "e86416ab-393d-4137-bfac-ce6ee9657af4"
      },
      "source": [
        "for dictionary in train_dataset.take(5): # visualize 5 samples\n",
        "  image = dictionary['image']\n",
        "  id = dictionary['id']\n",
        "  label = dictionary['label']\n",
        "\n",
        "  print(f\"Image Label: {IDX2CLASS[label.numpy().item()]}\")\n",
        "  plt.figure(figsize = (2, 2)) # Just set the images a little smaller, because they are very pixely and need to be zoomed out to see what's inside.\n",
        "  plt.imshow(image.numpy()) # Eager Execution allows us to swap between TensorFlow and Numpy\n",
        "  plt.show()\n",
        "# Print Tensor Shapes\n",
        "print(f\"IMAGE SHAPE: {image.shape}\")\n",
        "print(f\"ID Shape: {id.shape}\")\n",
        "print(f\"LABEL Shape: {label.shape}\")\n"
      ],
      "execution_count": 8,
      "outputs": [
        {
          "output_type": "stream",
          "text": [
            "Image Label: horse\n"
          ],
          "name": "stdout"
        },
        {
          "output_type": "display_data",
          "data": {
            "image/png": "[encoded data removed]",
            "text/plain": [
              "<Figure size 144x144 with 1 Axes>"
            ]
          },
          "metadata": {
            "tags": [],
            "needs_background": "light"
          }
        },
        {
          "output_type": "stream",
          "text": [
            "Image Label: deer\n"
          ],
          "name": "stdout"
        },
        {
          "output_type": "display_data",
          "data": {
            "image/png": "[encoded data removed]",
            "text/plain": [
              "<Figure size 144x144 with 1 Axes>"
            ]
          },
          "metadata": {
            "tags": [],
            "needs_background": "light"
          }
        },
        {
          "output_type": "stream",
          "text": [
            "Image Label: ship\n"
          ],
          "name": "stdout"
        },
        {
          "output_type": "display_data",
          "data": {
            "image/png": "[encoded data removed]",
            "text/plain": [
              "<Figure size 144x144 with 1 Axes>"
            ]
          },
          "metadata": {
            "tags": [],
            "needs_background": "light"
          }
        },
        {
          "output_type": "stream",
          "text": [
            "Image Label: cat\n"
          ],
          "name": "stdout"
        },
        {
          "output_type": "display_data",
          "data": {
            "image/png": "[encoded data removed]",
            "text/plain": [
              "<Figure size 144x144 with 1 Axes>"
            ]
          },
          "metadata": {
            "tags": [],
            "needs_background": "light"
          }
        },
        {
          "output_type": "stream",
          "text": [
            "Image Label: horse\n"
          ],
          "name": "stdout"
        },
        {
          "output_type": "display_data",
          "data": {
            "image/png": "[encoded data removed]",
            "text/plain": [
              "<Figure size 144x144 with 1 Axes>"
            ]
          },
          "metadata": {
            "tags": [],
            "needs_background": "light"
          }
        },
        {
          "output_type": "stream",
          "text": [
            "IMAGE SHAPE: (32, 32, 3)\n",
            "ID Shape: ()\n",
            "LABEL Shape: ()\n"
          ],
          "name": "stdout"
        }
      ]
    },
    {
      "cell_type": "markdown",
      "metadata": {
        "id": "QEANXdQnD0qW"
      },
      "source": [
        "Use a few tf.data functions to transform the dataset to a clean (x, y) batched dataset"
      ]
    },
    {
      "cell_type": "code",
      "metadata": {
        "id": "gSzCqm5cBQ2O"
      },
      "source": [
        "class DataConfig:\n",
        "  # Config Variables for Datasets\n",
        "  batch_size = 32 # How many images to process in one batch(Could be as large as you want for CIFAR10, but for larger datasets, you may be restricted by hardware)"
      ],
      "execution_count": 9,
      "outputs": []
    },
    {
      "cell_type": "code",
      "metadata": {
        "id": "gHezoZE3EJml"
      },
      "source": [
        "def process_image(image):\n",
        "  # Image PreProcessing\n",
        "  image = tf.cast(image, tf.float32) / 255.0 # Turn images from 0 -> 255, to 0 -> 1.0\n",
        "  return image\n",
        "\n",
        "\n",
        "def dict_to_pair(dictionary):\n",
        "  image = dictionary['image']\n",
        "  id = dictionary['id']\n",
        "  label = dictionary['label']\n",
        "  return process_image(image), label \n",
        "\n",
        "\n",
        "def process_dataset(dataset, is_train = False):\n",
        "  AUTO = tf.data.experimental.AUTOTUNE\n",
        "  # Turn off Determinism for Speed Increases\n",
        "  options = tf.data.Options()\n",
        "  options.experimental_deterministic = False\n",
        "\n",
        "  # Convert a Dictionary Based Dataset to (x, y) pairs.\n",
        "  dataset = dataset.with_options(options) # Turn off determinism\n",
        "  \n",
        "  dataset = dataset.map(lambda dictionary: dict_to_pair(dictionary), num_parallel_calls = AUTO, deterministic = False) # Map the dataset to (x, y)\n",
        "  # Shuffle the Dataset\n",
        "  if is_train:\n",
        "    dataset = dataset.shuffle(5000) # Buffer size 5000\n",
        "  # Batch the Dataset\n",
        "  dataset = dataset.batch(DataConfig.batch_size, drop_remainder = False)\n",
        "  # Optimization Techniques\n",
        "  dataset = dataset.prefetch(AUTO)\n",
        "  return dataset"
      ],
      "execution_count": 10,
      "outputs": []
    },
    {
      "cell_type": "code",
      "metadata": {
        "id": "zt3GEElWE0Qq"
      },
      "source": [
        "# Process all Datasets\n",
        "train_dataset = process_dataset(train_dataset, is_train = True)\n",
        "val_dataset = process_dataset(val_dataset, is_train = False)\n",
        "test_dataset = process_dataset(test_dataset, is_train = False)"
      ],
      "execution_count": 11,
      "outputs": []
    },
    {
      "cell_type": "markdown",
      "metadata": {
        "id": "vLKbDfAeG7Iv"
      },
      "source": [
        "# 4) Define the Models\n",
        "- We will be using 2 Models in this tutorial: a Convolutional Neural Network and a Multilayered Perceptron"
      ]
    },
    {
      "cell_type": "markdown",
      "metadata": {
        "id": "QFnsFzE5b_o0"
      },
      "source": [
        "1) Model #1: Multi Layered Perceptron\n",
        "\n",
        "\n",
        "![resized-image-Promo.jpeg](data:image/jpeg;base64,/9j/4AAQSkZJRgABAQAAAQABAAD/2wBDAAMCAgICAgMCAgIDAwMDBAYEBAQEBAgGBgUGCQgKCgkICQkKDA8MCgsOCwkJDRENDg8QEBEQCgwSExIQEw8QEBD/2wBDAQMDAwQDBAgEBAgQCwkLEBAQEBAQEBAQEBAQEBAQEBAQEBAQEBAQEBAQEBAQEBAQEBAQEBAQEBAQEBAQEBAQEBD/wAARCAEbAa4DASIAAhEBAxEB/8QAHQABAAEFAQEBAAAAAAAAAAAAAAUDBAYHCAECCf/EAD4QAAICAgICAQMCBQIEAwYHAAECAwQABQYREhMHFCExCCIVIzJBURZhJDNCcReBkSVDUoKxwRgmc4OSobL/xAAbAQEAAgMBAQAAAAAAAAAAAAAABAUDBgcCAf/EADMRAAICAQIEAgkDBQEBAAAAAAABAgMEETEFEiFBBlEiYXGBkaGx0fATMsEUI0JS4RUz/9oADAMBAAIRAxEAPwD9U8YxgDGMYAxjGAMYxgDGMYAxjGAMYxgDGMYAxjGAMYxgDGMYAxjGAMYxgDMf5zzbV8A0tbe7ivbngtbjU6RFrKrOJ9hsK9GFiGZR4LLZjZz32EDEBiApyDMK+Yfi/VfMfCDwPetUOtn3Gm2VyC3SW3Bbgo7OtdkqyRMQrJMtYwnvsASElW68SBX0fyVpuQcu3/DqNC6lrje2OmuTTNAkTT/w6lfBjHs9jqYr8Q7Cdhkk7AAVmsOI/OPxpzaLd3tHynWvq9NvKfHk2jXq5pbG5bqUrNcVZlcrKJBsK8S/cM0vkqqf2lsAsfpF4hW4l8lcF4jZ1nF9D8gttDDr9RpIq1fUre0VTVyCOKNlRj5VXsEhU8mmKkdgu0ZL+lHlG53e35jy35I41seRch2Gy/iUicKVtemtv6vV661HWp2rdhUt+nUxhLEzTwhbNlJK0qSeIA3HV+VfjyWktu9zDTayUceTlVmpf2EEFinqWBJuToX7jgXxYNKf2Aow8vscob75d4Lp/ijf/NGt3NfkfGOPanY7iazo7ENsWIqSSNOkLBxG0gMMidFwA6lSV6PWh+V/oSq8nvb2c/J92CvutHZprC0Nx0r7SXjZ0H1gri6tNoxVPn4mt9QXJH1Qj6jG0+RfA0W94Z828Qh5IlNfmRrjmZaAI1ZsaOpq2PgJB7yDUM5PcfZk8f7eZA2Xsd3ptRPQrbbb0qU21tfRUI7E6Rtbset5fTEGILv64pX8V7PjG566UkRNz5J+O9doa/Kdhzzj1bS29adzX2U2zgSrNrx6+7aSlvBoB74e5AfH+bH9/wBy96k+Qf0+/K/ysnH5ecfMukS1x65Lsa40nHdjrqr2YpKtnXySQLtmEvpt1FkkWZpFkjIWNa0qixmNN+mPYfJOnvcmsUdj8bcjj5KNrx5rO0ty3oKSpsP+H2B1myjCgWN5vGhWjciAglpJIzCOSuQOiqvM+H3uR2eH0uVaeffU1drOrivRNbhCJA7l4Q3moVLdViSPsLEJP9a9zOat+CPgjT/B9LeQa+XWzS7ptQpalr5Ky16+v0tHWxVlaWaeZ4lNKSVBJK7J9QylnIaR9pYAxjGAMYxgDGMYAxjGAMYxgDGMYAxjGAMYxgDGMYAxjGAMYxgDGMYAxjGAMYxgDGMx/wCQ+a6r414Byb5G3te3PreK6e7u7kVRFaeSCtC80ixhmVS5VCACyjvrsj84BkGM88l767+5z3AGMw/k/wAq8R4z8acq+VxZl2uk4fT29vYDXhXlY6wzLbhjDsqmRJK00fRYDyXrsD75l/f27P2wD3GeE9YBDDsf3wD3GMYAxjGAMYxgDGMYAxjKNu3VoVZr16zFXrV42lmmlcIkaKO2ZmP2AABJJ/GAVHdY1LuwVVHZJPQA/wA5r3a/OHFa8Xt41q9zyxVmSN5NLBG0AR4w4lWxO8UMsfRA7idz2euvsetU/IXyZHzQtLIZLGgeWGxq9ZYrNAJfX0yWbKN+9v3/AL0jbx68Y2ZFdexgmx3W02rd3rkjqPssYPUaD/CqPsB/5ZBuzo1PlitX8jcOF+E7MqCtypOKfZb/AJ6v5OgH/UHqYb1WrY4By6KCeRUlt+uk8VZSfu8gSy0hUf38EY/4BzMeGfI3CvkGtLY4lv4Lr11VrFZkeC1WDM6oZq8oWWIMYpPHzVfIKSvY++cgqzIfJGKn/IPWeSy31sxbTW7S3rdrVIarsajhLEJDK3QYghkJRfKNwyOB4urKSpxV8R1elkenqLDM8G18jliTfN5PTR+9bfM7jxmuPhH5Vl+S+PzxbyCjT5LpmSHaVqsymORWB9VuKMs0kUMvjIFWT7q8UyBpRH7X2PlkmmtUaFZXOmbrmtGujGMYz6eBjGMAYxjAGMYwBjGMAYxjAGMYwBjGMAYxjAGMYwBjGMAYxjAGMYwBjGMAYxjAGYp8s8F/8UPivmXxp/FP4Z/q3j+x0X1vo93031VaSH2+vyXz8fZ5ePkvfXXY/OZXjAOY+S/o71609lZ0k+itXN3Y5UdqlrRr6dh/HuRUNi0twJPG1hatekK5X2K80agK8XSrllyT9GPLNrpdvV4/8ocW0N7lWn5Tpd/HW4TINWsG7i1sU7a6mmwQ03A1UcrF5rAksWbMpA8wi9U4wDTknwNurXw78n/Dd3m1Jtfz08n/AIdai07JPqxuprc8wm7sFbRjmuyeJUQdoqqR325wP52/Sr8r/qI4weMfInyt8dSwvrtjrWet8c2kZFstVeOaJztzKksUtUSBfY0Dt6zLC7QxMvT+MA5AufpG5L8mbT5Dubvc7rh8MHM697g9Wey71oa8cy7G/bA19+O0Ir+2sWbXrNuKVXp61yEFWGJNx/AP6deLfBGreKiK+w28lStrjsvXYLxUYEAioxNZnsTLWiYyeqN5XKIyJ5N6wc25jAGMYwBjGMAYxjAGMZZ7PcanSxQz7jaVKMdixFUhezMsSyTyuEjiUsR27sQqqPuSQB2cAvM1N+pbbW6nx/W0UFay0PI9pBrbk0MwT0Vgkk8nmCp9kcgr+hk+3azn7/bo5xJyXbX4HPF+LW7TtXsvBPsy2trfURS+sQS+xGsp5nyZZFruhRfIMQyeXG/yvv8A9TMn6jOTDl+4gk+D3tJrOMVhFRili3MdKvK6uoH1v3UbBlMh8HVfNQEeAtjtk4QlKO+jJ3DK4W5tULNnJa/H+S7szvZmaZ/yx+w/wP7DKWMZrZ2oYxjAJz4w5FFw/wCWuObixsKVOns5H0Nx7RlIZbRUQJEqsF9z3I6aBnVuleRR0X8h2PnBG14/yXlO54rp+IRRPtU5Vor8Rlj9kcUdXZVrM0rp5oXWOKGRygdSwQgEEjO59HsbW01de7e1djW2ZF/nVJypeJwSGXtSVYdg9MCQR0R+cvMFt0rXzOW+LK4Q4i3Huk37eq+iJDGMZMNZGMYwBjGMAYxjAGMYwBjGMAYxjAGMYwBjGMAYxjAGMYwBjGMAYxjAGMYwBjGMAYxjAIjlHJqPFNW2yuQ2LMjuIatOqgexcnb+iGJSQCx6P3JCqAzMyqrMNabPmfJntQ2eQcn/AIQY/Lz0mgSKx9mjVSli5PGSxVw7KYViIDAMG67OMXeW2t9sLXMUnuLJtU9WtimdgKGu/wCkRxsiGKSbr2y+SmQEiMuyxx+MRlXk50oycKu3cgzuc302Kpq6VbCT19x8hRtHIJFZue7SQEg9jyRpfBh9vupBBH2P2zJNd8p820Fl7E90cnoSzmSWtbiirW4I2aIeMEsKrGyoizMI5ELSO6gzRqPti2Mixzb4vVyb9vUxxk4vVM6B4XzjjvPtTJtuO3PatedqluBx4T07CgFoZkP3RwrIw/syOjqWR1Yz+cu6HlafGfLa/L5rNWpprhjp8hklSJAKgLeuw80kkaxJXeQys7MwEJsAIzspHUWXNFyvhzonVz51qMYy2v7LX6uFLGzvV6kUk0VZJJ5VjVpZZFjijBJ6LO7qij8lmAHZIGZTIXOMhpt5sLUUw0GhsWZfRd9Ml0mlX+qgkEawyF1MyrI3kVlSGRDGjOCQ0Ykr/Q7ia2ZrO7EdeK57oYKtZU9lc1/AwTs5cv8AzWaUPF6j+2JT2Ff2AXN/Za7VQJZ2l+vThkmirJJPKsatLLIscUYLEDyeR0RR+WZlA7JAyPm3mwtRTDQaCxalEN0QyXSaVf6qCT1rDKXUzKsjeRWVIZEMaM4JDRiS41fH9TpvB6NUmwlOvQa3PI89qaCDz9SSzyFpZfEySEF2Y+Ujt32zEyOARv0O4muGazu/CvFc90MFasqeyua/gYJ2cuX/AJrNKHj9R/bEp7Cv7PnT8Z0Whb3a3XotpqtenNdlZprdiGAMIhNYkLSzFfN+mkZj27nvtiTKZCb23yN71DU8epQhJ5PPY7Cw5C06wVv+SnifdO7BVVSVRFLyOSVSGcCP3XLNnr9vJHDqhHqdfEDZt2WWJr1qQAQUqYkZFZyzp5SuwjDNHEvm7SmvCfIHGI+W/HNvi6bKI7ZurkFpywT61ZPaejJ7mhidvKMhfIpFIyp+Bk/s6R5BvvVXskQ6YfzjHKP3WpE/bG3hL2PCJ/NkkjIPugdT2hylNorsR/avkP8AbHtPUJOElKL0aOOKe4rWIiG9kckbGOWOWNo3jdT0yujAMrAggqwBBBBAIy5FyA/9Yzdfyn8K2OXWE32gWvR3IZUsGUMsVuP7DtyoJDqv4bo9hQh+3iyaJ3XH+R8XSeTlWgv6qOqI/fYsQn6ZC4BVROO4mP3APix6P2/P2ylvwbIPWtao6lwvxJi5laV8lCfdPZ+x/wAbl8s8TfhxlQEH8HMa02w1m/uHW6HaQ7O6EeQVKBNmwyqO2KxRgseh/gZsfh/wvzvmIR7sV3jWnnjPdieNRsZAyRshirurLD9nkBM48leLowurdjHXh3Tejjp7ehMzOPYOHBydik/JPVsn/wBPfBZeT/IA55saDjW8UWRNdM/aiXYzRNE7RlJQSsVeSVWWSJkY2UKN5wt49CvRTR7v+IarV1Yq25sNJtzVoD6ie2YoYobUsqupYLFAsLdxyMQYP3Rxwt3U4dxTQ8I41Q4txjVx6/W0IykMCMzHtmLO7uxLSSO7M7yOS7uzMxLMSZDY67X7jX2tRtqNe7RuwvWs1rESyRTxOpV43RgQyspIII6IJBy7rrVUVCPY5VnZk8/IlkWbv5eSK4b+x/OfWRmqsXGlta3Zn2Wa0jSrNHTeGB68kjmFVJdwzqihH/cCWXz8I1kRckh3+DnsiHuMYwBjGMAYxjAGMYwBjGMAYxjAGMYwBjGMAYxjAGMYwBjGMAYxjANf3Pnf4t0trlcHL+XavisHD9xHpLtzfX69GvLO9GlcDRPJIPJAmxroS3ifMkddeJa92XzV8Oabkex4duPljhtDf6irJe2Gqtb2rFcp1o4Pe800LOHjjWH+aXYACP8AeT4/fIi78BcI2HJt/wAstT7GS9yC5bvy+TQstaazqaerkaDuMlD9PRj6JJPlJL2SrBBrzd/pAp8523NIua853lbju721q3rNZqJaqr6rPEa/HpJrDS1WkFhI/rSipJ6v3xMysQUAG2eQ/NHxLxTkup4dyP5H47r95vNt/AqGvn2ES2Jth6I5xX8O+1kMc9cgN139TXA+80Yb55N8t8Z4r8icT+MdhruQSbbmNiWvRsQ6ewddEUqW7R9t0qK4fwozAQrI037kb1+BLrBcd+A6Wgvpu7HyLyzb7huWpzG1sby65ZblpdOup9MiQVI4lhNVF7EaI/n+4OPxmZcm4Tq+VbviW92Fi1HPw7cS7uisLKElnfX26JWXtSSnqvTN0pU+aoe+gVYDIcxj5PqVNh8ccn1t6SVK97UW6kjRMVcCWJk/aV+6n935/t+cyfIHnms3e64PyHT8ZmqQ7i/qrdbXyWyRAll4WWJpPEE+AcqW6BPXfQP4wvUeZdYs598vIL9/sFCj/sB0MZZae9FsddBcgLeEqBh5IUbojsdqwBB/2IBGXuaw04vRlcMYxnwEZySjU2eju0L1eOevYheKWKRfJXRgQykf3BBIIzbfwT8ubP5a+EuIc31dSrtt1teNRWtjIJPo6cO4WCEyVZQQ00QeWRyrLFIojQv2Q0Qk0zzXY2tfoJxrqgubGyUq0KfvjhNu3IwSCuryEIrSSMiKWIHbDs5tDRfGPEPh61rdH1PU4Xx3R06+ieGvILGsMVysbSm1TrxvDXllipz2fqLEwtH3NIscFaX2W/Dk+ST9ZKx+5t36Lby3PdY3XrrxXPdDBVrKnsg+n8DDOzly/wDNLyh4/UftEp7Cv7Gr0Gp0/relU7sJTr0GtzyNPamgg8/UktiQtLL4mSQguzHykdie2Ymy1kPJ9HBBR2F5+RwxrDALrpFXvN0sEZknVAkErM/1EzvEsKqvikcLH7mS1u21+3hM1Cx5+HgJY2Ro5YWeNZFSWNgHjfwdGKOAwDDsDvLEkl5jGMAYxljurWzp6uxPpdWmxvheq1aSwII3kJAHskIYpGCe2ZVdgoYqjt0hAt+S2eSQUI4+Ka6pav2LEUPsuTGOvViLfzJ3C/vk8EDFYl6Mj+CF4lZpo69+9Ho9U1uw8lloVSNFaSKOSzMxCRxqXKR+yRyqqCVBZgPt3nukq7Snq68G72ibG+F7s2Y64gjeQkkiOMFikYJ6VWZ2CgeTu3bG29v8U3/phm7r6b90xjm/qtSJ+2NvCXv9kT+bRyxlT74HU9pgF3qaU1DXxVrNj32P3STygyeLyuxZygkd2RPJj4p5EIvSg9KMvMYwDwqp/KjPkxRH8xr/AOmfeMA+PTEP/dr/AOmehFX8KBn1jAGMYwCJ3mtnmaHcaiDXrt6fUUVmzSE8n0jzQvarxn2RlDKkIUN5+KyLE7LII/AyFO1HeqQ3YVlWOeNZUE0TxSBWHY8kcBkP3+6sAQfsQDlbIOCJtDunjV4l1m3kRatWrrZmeK6RPLZmlmVmjSORVj67jjAlDkvI86qoEx7o1lWu8iiV1ZlTv7soIBIH+B5L3/3H+cqZbX6EV+FY5GeN42EkUsZ6eJx9gyn/AD0SPv2CCQQQSDG6Td2pLbcf5BHFBuIIzKDEpWC7CCAbEHZJA7ZQ8ZJaJmAJZWjkkAm8YxgDGMYAxjGAMYxgDGMYAxjGAMYxgDGMYAxjGAMYxgDGMYAxjGAMYxgFrsLMlWAyRR+ZH9sgJN/eJP7QuZQVDDojsZaTaqlP92iAJ/uMA5x+ROOXuM7e7yzXFn1Wxle1ciCKFpzHtpX7AHSMQ0hLE9Oz/cAqox+HbPMgeN1YH751E/HKxPcblc15u/08cdtGaxxy5Lo7DRFI0gUPVV/FFQmA9AKoQDwjKA+Td/c9iFkYSufPF6P5MjWUNvWJqddnIP6lByp/FYI42lnIRFHbMfsBmaP+nXmX0Qjg+RdUtr+8snH2dP8A+Asj/wD1mQaT9O3Hamxh2/IttsN9ZryQ2K8NlljqVp0QgvHDGAGBY+YExl8GVGUqyg5Ghw2evpyWhjVM2+piXwdxa9zrkVb5Pv0xFxjXI7cf9jyrJsp2Xx+uVVYKayo0gj9gf2s4mQIscEs2+tprYLy17LU4J7evm+qpPKi9xTeDISrMressjyRllHl4SOB+cr1KqVIhEhJH+TlfLSEI1xUY7EuEVBaIgtVf+itx629vJdkdrJZu62f6PxQVwUb0tNGPUzL7D6wfF3iTvqQxSymXuVIr1WanM0qpPE0TNDK8UgVh0fF0IZD9/sykEH7gg5jslyY7nZ8Hsb/+HXNlTlv6axXaAWlgHhHYaNJpJWmevNJG7O0CwKturH4uQ3c1rtnBcnt64yO1vXNHFZ8q0kKszRq4ePzHTxkN15IWUMrp5eSOB6PRY7CbkejqWr1OpLyKOGOWdaUZhhuyMBNIIoXdkgcsfRCiyGIKAzSStlbT8q0O9uW9Zr74+vodm1RnjeC1FH754EmaGQLIIZJKtgRS+PrlWJmjZ1/dktlpstVr9rEsV+Dz9fmYpFYpLCzRtGXjkUh438JHXyQhgGPR++AXE0jRRPIkLysqkiNCAzH/AAOyB3/3IyM43V5HBRkk5Xsqtu/Ysyz+FSH116kRP8uvGT++TwQKGlfoyP5uEiVlhjjuLazmcW22m15VvobFOxIRqddFXCNRgLMxE8qt42JG7XohFEaIqAyMJJ5pXXb2nfkSnKklK+0fsNKyAswASJn8eiVlVPdGrPGzoGbx8u/tgFfbbKHU6+W/Mns8PFY4hJHG08rMFjiQyMqebuyooZgCzAdjvPNTSmoa+KtZse+x+6SeUGTxeV2LOUEjuyJ5MfFPIhF6UHpRlp7f4pv/AEwyn6fT/umMc39VqRP2xt4S9/sifzaOWMqffA6ntMl8AYxjAGMw7m3yZp+IztpK0R2nIpKht1tVE/gTGXCLJNJ0Vgi8vI+bfciKXwWRkK5qLe/L/LZrsU781SiIJ5W+h0evhkikibrwSee0JC7IB/XEIwxJJXroDHZbCr970LLB4Tl8R60R6efY6OxnLWy+YOb3BGuv51uNeySK5ZaNCUOAf6GDQf0n8Hx6b/BH5zLuL/qUSpYhp/I1CvBBYsLCu51ylatcO0vTWYpGLwxqBAhlVpB5O7usMaMwx15VVr0i+pLzPDnEMKDsnHVLfleunu6P5G98Z4CGHYz3JBRDLbYa+ntKrU71dJomZH8WH4ZGDIyn8qysqsrDoqwBBBAy5xgEdpLdqeqaeym9+x1/rrXp46E1SvNY9KOzwLIW7jPmOvGSQKfJC5ZG6bzSVd7UWvPJNBNBIJ6tuBgs1WYAgSxsQQD0zAggqysyMGRmU2fIgmoYcwDypHq6877FK9Gzcns01jd/XDBAfKSYSBGTqOV+vbGieUxInPz+MAxTi3L7cu2fg3MhUqcprV3tIsHaV9tURkRrtRWYsEDSRLLEWZ4HkRWZ0kgmnyzMf5twnVc51UVC/Yt0blGwt7VbWi6pd1d1VZUs13ZWUOFd0ZXVo5I5JIpUkikkjax4byncy2Tw7n0VGryupC0xamrpT21ZWC/W1Fcsyr28YlgZneu8iozyo8FicDLsYxgDOY/lnnnyjqrvzNzLXfKV7jzfGNWmeL8Ph12vMHI5ZKEc9WSy1iCS3NHd2EsmtjWrLAWenJHE/v8AIr05kZsOMca2241XItrx7WXNrommfV3rFSOSxQaaP1ymCRgWiLoSjFSPJT0ex9sA0RzD9T/K4OL7exwngGrl3dXU892VZdpt5I6w/wBM7qDWuX9cDO3uSZ5wo66aNYvPp/cnz8h/qu3/AMXQcjtcp+NtPJHx6peqFNfyr3zT7ypxtt/LW9bVVMdP6eOSIWX6mMnrJqiOQSDdU3xx8e2Nxs+RT8D47Jtd1WlpbK8+rgNi7XkSKOSGaQr5SIyV66srEgrDGCOkXpouAcT45udlyDVaWnDsNosMMlha0ayR14oY4o6yMqhlhURBhH2QGZiOu+gBrj/xv5tuvl6b464bwrj9rX6bkljSbm9f300Evoi1mqutNXjjqyK8g/ikkfpdkBNcfzF9h9eRXfkk8Sf5T5JyqzLJoeDVk2XrijjDx1o9ctmYKSVDEkOR5t12euwPxP634t+MtNWpUtR8dcYo19beh2dKGtqK8SVrkVYVYrEaqgCSpXVYVdemWNQgIUAZb7n4c+IuR8uqc/5D8WcQ2nKKDwS1d3c0dae/XeFvKFo7DoZEKMAVIYFSOx1gGmNf+sqaXQvd2/xq2r2a7WzxCGrdvW6SXOWSQ0J9RqYUu0oLgW5DeYmzNViSA1ZSyvE0cz5P/wDiD5dZjuy6r401NsXbtmjxiM8thjnutW3EGqsPegaH200SWzFIfUtpo0WRJlgseuvLnND4a+PdLyTVck41x6noG1Kr1T09SCjXtSR1Poqr2PUivMK1QywQxs/qRJSfWWjgaKer8N4hU2ez3dXiuoh2O6mrWNnbSlEs12WsFFd5nC+UrRBFEZYkoFHj10MAmB+PuOs9xjAGMYwBjGMAYxjAGMYwBjGMAYxjAGMYwBjGMAYxjAGMYwCD5bTvS0INrqUtTX9LYGwr1YJnX6zxR0krlPfDFIZIpJVjE7mJJTFMykxL1e2YZtl9Be1e6eGKKUWGEKxyRXIijL63JBPj+4OGjZT5InZZPJHv8tarGKaaoVfpD7EYs7hlckn9zDoEN5DxBPS+P4BAwD51O1p7vWVttQM309qMSIJoJIJV7/6XikCvG4PYZHUMrAqwBBGR41e8uco/i17benU0ovCjrqxK++Zh09iy/wBi3QJSOEfsX98jmR2iFeF5ZW3NXkVTkN/l2zo8Vpmp79dQqGZ7Ntp2jjMjRRGWGqpljkmIcqRDGztBBHZFnNsAZHcgm11fWPZ2dOK3HFLC8MEhjHtsiRfQqe0qnsMvrCdkfv8AD7g9HJHIj2/xTf8Aphm7r6f/AJ/rl/NqRP2xt4SgjwifyaOSMg+6F1PaYBj/AB7ifMOE0qVDTcj/AI9SQxRz1d3ZneaIE1Y3eC7I007IkaXZhFZNiSWWdE+pgiQdZNr95UvSrTlSSneKeZp2QFlHSRs/j0SsgT3Rqzxs6Bm8fLsZI5RtVKl2NYblaKeNZI5lSVAwEiOHRuj/AHVlVgfyCAR9xgFbMe+QOYVeBcP2XKrUSzGmirBAzsgnsyOsUERZVcp5yvGnl4kL5dn7A5f34N1HJJd1FyKVhH9qNoBYXZUlICyovnEzO0Xk5EoCx9LGCxbOXvmH9RnC+dfIu9/T7rp9/peW/He0o7HZ07DRJX29KenKytEYpXMsSGerIyyKhV2hPRIPj5nNVxcn2JOFj/1eTXR/s0viyE2e1uSz35JpY2v7aw1zbWYvMfUWGAHiPNmYRooVEQsfFERQelAyKwSSST+TjNbnOVj5pPqdqpprx4KqpaRWwwQCCp/BxjPJlNsfpq57e1+3m+KdvasWKTV3u6GWeRCKyxlRLRViQ5UBhJEnTlVWwvaRxxIOi84RHLYPj/l3DuZy1tc5p8l1lL3Xz4x1Yr1lKE8/l2PBkguTEMT0D+ex2D3RTuVNjUhv6+1FZrWY1mhmhcPHIjDtWVh9iCCCCMv8S121JvfY5J4jw4YWfKNa0Ukn8f8ApWxjGSSiGQescaXbf6Z9cpr2Y57uvMday8cMSNGJYpZ28okb2TAxJ5oTH5LHH413bJzLDd66Xa62SpXtPWnDRzQSrJKgSaN1eMuIpI2ePzVfOPzAkTyRv2sQQL/Ivf8AHqHIqsUVvzisVJvqaNyHxE9KwFZRNExBAbxd1IIKsjujhkdlNxqr42VMWfRNCyySwSJLDJGRJHI0b+IkVWZPJSVfxCuvi69qwJvMAhNJu7UlpuP8gSKDcQRmUGIFYb0IIBsQAkkKCyh4yS0TMASytHJJN5abDWVdkkQsJ1LXk91aZQPZXl8WXzQkHpvFmX/BVmUgqxBqVGtelUven3jsMYu/FvuemAP3HY6PXZ6JI7PXZAr4xjAGMj99vdXxrU2N3urXop1U8pHCM7EkgKiIoLO7MQqooLMxCqCSBmF8h5zyqaCePQVdVovsPRb3QazIxWVlb/hIHQlGjCsjGcN+/wDdGpXo56ca3I/YiHl8QxsFa3y0+psTGafu86+Q2giTW8u4itgEe1p+OXGRh39woFwFf/MnJGp84Udbaki5/p04/SLzNFuIrgta5IUClTZlKI1ZmX2MSyGFRH95vJlUyLOG5NUeZx1X57yFjcfwMqf6cJ6P19P+Gz8YxkAuRjGMAYxjAGMYwBjGMAYxjAGMYwBjGMAYxjAGQnIua8W4oCu93MFec15bUdRe5bU8cfXmYq6Ayy9eSjpFY9sB19xmN8z51PFs5uO6DZ064oof4zf+00tBnjBhijj/AKfqGDrIA/YVfAlGWQEa2i341Eclbi1Y69JPETW5HM962VRUEk9hyZJH8VUFie/t+Tka/Lroej6vyI9l+j0ibPs/M/BamuG0sDkawEdj/wDK20Mn47/5Yr+f9/8AGT3HOa8T5b7k45yCjemrRwy2q0Uo+oqiVS0YnhPUkLMASFdVP2P2+xzQz7rcSP7JNtcZj/dp2J/+uWF6GLYXaW0sqf4hrZ/qaV2MmOxXk6KkpIvTDyUsrDvplZlbtWIMWHEk3pOPQxrInr1R1HjNUfDPyZvN/PPwfmsck+711f6mvtY4VWLaVQyoXdU/bDYQsgkUBUfyEkQAMkMG18soyUlrF9CVGSmtUMwP5X0O52NPXb3QX5tfJprAk2U9GLu/Z1JeM3aUDrWsTr7ERZPGuqzSPWijSSJnE0WV8go7TZ6e1rdNu5dPbtRmJNhDBHNLVB+zSRJKGjMgHfgZFdA3iWSRQUb70ml13HdVX02pheOrWUqvsleaRySSzySOS8kjMSzSOzO7MzMSxJP09F1BFDBCkFeJYoo1CIiL4qqj7AAf2AGQ2vtHSbGLjm13Ow2NrZSXbtKeej4okIkVvpmmijWEGMTBYlfqWSKJmPtaKaXK3H6lHSQf6WorDFBrIk+krxRJGkFRiwhjVI0RERAjRoqgkJGpJJJy15jvNTS1ex1E3JbWr2c+nvXq41cC29qkECostmpUMcrWHiaaHpRDKC8kSlGLhWAldrsodTQlvTL5+HikcQkRGmldgscSmRlXzd2VFBYAswHY7xqaU1DXxVrNj32B288oL+LysSzlVd3ZE8ifFPIhV6UHoDMO1vLNtyjm17j2u08qRcL2cdDc2rkrVEtPNrUsx2KSRu5sRqbCRNHMqL5M7pIXrBZJyDjW1vVq/wDqrk9u5YFfXGxFrPLW1PrKspmeeERubCpM/grwS2JYzFEsZDBpjKBd7vleg48ZItlf/wCLTX2tolCtE9m9Yq1vD3yQVYg00/gZoVIjRj5SxqAWdQfP4lv7F/6apxz01YNh9NYs3biR+2r9L7BZqpEJDJ/PZICk3oP7ZnHkqxia81mp1WlrvU0+sq0YJLE9t4q0KxI088rzTSEKAC8kskkjt+Wd2Y9kk42+31Wg1V3e73Z1ddrddXkt3LluZYYK0EalnkkdiFRFUEliQAAScAiIONbS7XrtyrlFu5OK+tNiLW+WtqC7VlMzzwrG5sKkz+CvBLYmjMUSxkMHmMvMny3+mnhXBdlsv1H1eP6Wjzff7hF5LerTTQ10oWAIo60EIPrkkNlabPO6CSV2mfuNWEK9H7GDX3dzq+ZSLsZpK1NhQr2DJDDWMwHnKa58epyvSeUil419iJ6xLMJKe5vJvtVd0myhZ6ewryVbCRyvEzRSKVYB0IZD0T0ykEfkEHPMoqcXF9zPjXyxboXR3i0/gcmghgCPwfvnuWvJNTyHgW7bjvIUQ+QaSlcRSIrkQP8AWnf4YdgOhJKEj8qUd7UbOX+4BzXbapUycJHaMPLqzqVdS9U/zQlMZHrtP/iT/wBMrHY11j9sjeK9hR9vuzE9BQP7kn7AZ4ScnojPOca4uc3okSXF+Mwc1+SuG8btVNlLBHuq24lmpR+QqnXv9dE85P2SFpq0MJb/AOKZFHRYEdUz8a1XDKets6Ph8u6j12wf0IZVms6qtacidqpmPkIo/PswK48YFaOFW8Ia7Yb8A/ElniZt895OEbebmulerXasgfV0u/Nog5HsEkrhHlHYX+TAvgGiLvuTNgxqnTWovc5BxzPjxHNldD9q6L2Ig5uL+Ot2lLS8i3Wqn2thrTXY7f1c1aRgoPoW4Jook6QARhPWO2IUEk5emHefxtJ12FL+ECoUaqabfUmz5giQT+3xEfh5Ax+rskg+YA8TZPx1KG52PKtJ7RsL9MQzU5Lbx0rU0ffpldfFxHIATG0qL5MngriQQwiO749tpd7pam2sabYaiaxH3NQ2CItirICQ8UngzRsVYEeUbvG3XkjuhVjnKgj13XLaWggv7jhX1W1kuCCXX6PZRWVihacos/utCqGCxFZZFC+S/vRBKQpe9XkesO3u6WRb0M2vqx3J55qE8dQRuXA8bTIIHYeDFkVyyDxLBQykymMAxiDfam9Frud8X2kW7027jqwfVULU92vJA7sK89ZIfZEQZJh7JQqgxkO8gSBRmT5HbbjvH9/Lr597o9fsZNTcXYa97dZJjUtKrIs8RYH1yBZHUOvTAOw76JzG+P8AF4NGd1xqju95Ut2asK1bk+4u7KVK6VxXimj+vM0SzJ4fzAPZ7HCzTAtOQQM1zwgHo/4yNFPfw2tWsG8glo1oXj2AtUvO1cfxURussbpHEQQxcepg3kAvr6+9H+J8kqa6/c2HF1sTwWnSpU1V5JpLNbzAjkJsCBI5Cp8mj8iF6IV3PWATA7/Bz4nnhqwyWbMqRRRKXkd2Cqigdkkn8AD++W52VY7T+DmK19QK/wBT5/SS+jx8vHr3ePq8+/8Ao8vPr79dffNIfMXz38ZbC3U+ENJzrSWOUcx1i7KrUPhZgvalbqQ3Ylb7o7yQrdVVBJ6hlb7eGZKq3bZGtd2l8TFfaqKpWvaKb+Bf3OXWt/KvJ7FZYZJ1ZdVAfZ5VaZJ8JZEkC+M8g6Zh4jw/an7vDzaHkkklcySuzux7LMeyc9lkMsjOf7/gf4H9hnxm/wCPjwx4KMEcYy8u3Ntd1r1bGeModSjfdWHRH+c9xkgjEj8M8kXhG7r/ABbsL87anZ+Y4xHIqFKTxRtJJQR/PzMfrSSWGPwKxJDMnmqCCJd65yh8kcih4Rxix8hWG2Pq4kV38sevtGvPYiqMLDwBx/0yrE0bKf2sjsrdqxGdX5pfGcaNGRrHaXX7nU/DOdPNwtLHrKL093YYxjKg2IYxjAGMYwBjGMAYxjAGM5h3Or+aavN/lyHguw3vGa245Jb2qbGpoY7U1oV+LaFa/wBI9iOSEF7MM0JZo5VYJYjVVlCyww2+53+pzf8AKvlDX/Fu5213caya1p6Glm1NKLWagNw2tfrWo7M0C+Vw7mzWi9U9mVPTYkLQeKGaMDrfGc3Rbr5T598h63ktbk3yLoOJ675Kir0qcfGvoVvaOTjFWb/i4rVI2Pp/4ibERdvDwaeQFleKFob/AOWbFPbfqD4nxzY8M5FRWlDqtlW5prtFtdjIsjX5fLVVpq1aStrY5Wrw/X2JZU9tSRIWRlZZ6wHQWRXKuQ1eI8Y2/K71W1ZraahY2E0NSMSTypDGzskakjychSAOx2SB2Mlcx/5Bk9PBt/ObEUCRa6xJLJKQEWNYyXJJ+w/aG+5+w/OD5J6Js57oJaqamClcufVWXeS7esCMR/U3JnMk03gPsnk7sfEfZe+h9sqZ8xsHRXH4I7z6zWZyc5OUt2VqGMYzyCF5K1vWLS5bqKRtbXjlpNpQiWda7TSxg9we5kf1LNGZIHYKT65pB1986rfYR36KPpNlTeW7WaejP9p4mXxHjL4qy+xO2QnxYdhh9x2DnMO4ZU1lhm/HgclP0r6TkHD/AIZ4VH8i8T5ZRs39Dx2u8la/JdSsayU46SNHFHFcqh/eFmriNqsQp23nf+bNPat+HSbg4vsSsd9GjeGprcb+OtVJq5NvdvXnht7q09h3ubTZFCpsWPVGpklIMkSCOGPwjDQwxIiCKMSX8S39jYfT1OOemrBsPp7Fq7cRPbV+l9gs1Ui9hk/nskBjm9DftmcdqsYmqcak41a0lXacPk1suo2qttK1jWmNq1oWWM5sI0f7X9rSGQuO/MuW7PfeSeWJJMF5Brtrq9TW5Jy/ltizDr4dbJuUoyDU0YjWl9ti9GTYSSGIv65Jo5rFhDWrNCEcyy+3I2i0fDdPO2s1VSnXNiWwKtVYq4sXLM7O3XkVQzT2JmJLEeckpJPbE5L5jfE4foIDxK3PYkm48yRVnmuPLNYpMhFaWRpLE08p8fKFpbDB5Zq80niAVOAV20+2r0da1feWls0LDW7kcCI0eyLJIJISJy7xRl5PNAkqlGjiXyMYeN7/AEe5o8h1FPea36gVr0KzRrZqy1pkBH9MkMqrJFIPw0ciq6sCrAEEC+zHtrZHFthPyW/tdrNqrYqU5KUdX6iGlMZSgtD1oZURvYizMxaKNYllIhVbEjgZDkFqtnV5elxpNJN/DKtxUqzXYQq3JIXDfURIw8hGsqj1yHrzKexAYzFLJWsWeRycjqUaWtqppUryT3b00xMryk+MUEES/wDzPJK5AULGiJIZXeCWAAHQwD4lgimXxlQMP98sJtDTlPagqf8AbJPGAYfyL430XKKDa3d0obkB8iokX90bFGQvGw/dG/i7AMpDAMej981Ptv0rTRyyzcc5UfUIG9Va/AHLT+RI7lQr4x9FV6EZI6J7b8Z0RjPM4xmtJLUk42ZkYcubHm4v1fbY5c1P6Yvka1Hai3W44zqXEf8Aws9X37Ht+/8ArjdYPt/2b7/7ZsjhP6d+McU20HI7duzttxW8/p7dpgBU841SQQRJ0id9P05DSgSyJ7CrFc23jPkK66/2RSMuTxLMzFy32OS+XwR8xoI0CA/YDrPrGM9kEZE7njVDdXtXtZJ7dW9p5zNWsVZzGxVh4yQyD+mWF1+zRuGXyWORQskUUiS2MAidPubt6/tNZstHa18uvsBYpWIkgu13HlHNFIv/AMyPG4V0dG+zRtFLLLZHcg0Gr5Rpreg3MUr1Lkfg/osSV5kP5WSKaJlkhkVgGSSNldGVWVlYAi0TZbPV7nWcet63YX6lmmwG7/lsBZiA8ksogX1mRe3R1T1EpIjGJjCswE5kXvtdPbhhv0Inm2OraW3QgbZT0689gwSRrHYMQYPERKew8cqq3jIELxoRKYwC219+ttKUOwps5imXyXzjaN1/yrIwDIwPYKsAykEEAgjLnIG7bg4vfa9ZcR63ZSlrNixenkaO2RDDXhhhKsipIFYdKydy+AVJHnYiuBttwQZFm1dL/iYJq7qv1UpWZVimSaOVljjeNJD4+JkImjPcLoykCttNpNUkWjQ181u/PBLNXQpIlclGRSJbARki+8qno9uyiQoj+DAcu/Pf6b25R8vab9VbSbwct+PJo9FHTjirjW7PRTNP5zxosjzRyQJs3LyyOvmaMvjXVJY5M6O3Nelr6v8Apujo2ra3aC496ejZNEwmYs0jxtCVl98ksrP5oVIJkkMgcKHo2LWin0z8bk0dOTUyVjSeg8Cmu1cr4GEx9eJjK/t8euuvt11mSqf6VkZrs0/gYr6lfVKp/wCSa+JqKNw6K4/BHefWQbS7LiuyfjO7hm/YWNC3LIr/AFtcEBZCyIiiTor7ECr4sfsChR2vRtF/uhzoVNsb4KyD6M4vlY1mHbKm1aNF/jLRdlCfyCMrLbgYFvYAAOz2fxmUjpa7GH/MGoqcq4Ne4Hb3EWq/1j4cahuSRmRYZr7ipExQdFv5k6fbsd/5H5zrvNBfDuobnXMxz6Gy38B4zJZp0iqzJ9XsSpilZXDqkkUKNNEylZFMzEdxyVmB37ml8ZyY35Gkdo9DqfhnBnh4eti0cnr7uwxjGVBsQxjGAMYxgDGMYAxjGAMtKWo1WtsX7mu1lSrPtLAt3pYYVR7U4ijhEspA7dxFDFH5N2fCNF/CgC7xgDGMYB4SAOyesjN/Q0PItLsOOb6GK1rtpVlpXK7sQs0EiFJEPRB6KsR9v85dbCtJarmOOQqf9sxuxqb8THtWYf5xsDnynJPqrVvjW5s132epl+mtGIqFdugyyKqu5RXRkkVGYuEkXy6PYy9FiE/hxmdfIfxyeU1zs9bHHV39WLwrWXBVZlBJEExAJMfkSQeiULFgD2ytqG5Ne0VmDXcooS6q5YLLFHP11MyojuI2BKyeIkXyKFgD2O/scp8rDlGTnWtV9CBZW4P1GTCRD+GGe9jMfS1ER5Jbi6/z7QP/AL57q7215BZfX8Noy7yzHOa0zwH/AIaq4aIOJpz+xCgmVzH2ZCgYojkdZErpstekUeEmyvt9LPznY0PjWhPcin5E7V7E9N3jmp0+v+IsrKsUixMkffraRfAzNDGSDIudT7LS07tuluPpvPY6r3PTcTyQ/eRCrRuU/rjb9pKMGXySN/EvGhXB/hz4y/0VDf3252cu03+2IWewVKQ1q6kmOvBH2Qqjvt3P75H+56RYootlZeY9Kohy9ybVDkXUx/VVYt1Tq8hh12y43sLix2LlWT1LOkh9XsisKjSQSyBYFhMqmTpA3qk8WDmRS3Nq9W9vkd2lGtOH2Wbg/kweKoDJKQ5PqUHyPRdulAJY/fLLeNHoZbXNJrO6mrUdfItrXUYXtiZEYOJUrIjSvMgEgCwjzkDlSkrLCEmYZobMKWK8qSxSqHR0YMrKR2CCPsQR/fM5lPrv9va/f/GWVwTQ2KlqFO0WQxTDt2/Y/wBgVVfsW8/X+5h0q+f3H3yx2PH7cda5JxK9Dp9hNFKYWkgNil72EzK81YOnkPdOZZPW8UkhVQZABlrLupGi2Gr55xuGnr2jnD2zMlvWz1S9n9srMqtERWgjkm9sawq1lYklnIJwDJsi+QV7u21d3S6XkL6fYTQqouQRRTT1Ecke2NJQ0fs6V/AyI6B1BZJFDI0Nx7ltStbr8J320lk5DFJYrRiaN/dsIa6RO10EV4Y3T12KvukhT6eKxP8ATh/MBTNaLjur47FbTXQv7dhakvXbErmSa1YfoGSRz9yQqoij+lI4440CoiKoEbonTi1mnwm/t9zs5LCWbOvuX4Wl/kJID9M9pV8WkjWRVT2n3SxIXJneKxLmS5Y7vWzbfUXNbV293VT2YWjhv0jH9RVkI/bLGJFeMsp6YLIjoeumVlJU0tPuoNlPf1pE63dTMla2JakkCuzRq6yReX2kiZXHTozqGDxlhJHIqgSeMYwBjGMAYxjAGMYwBjGMAYxljstxS1hSGVnltSr5Q1YF855R5ohZUH38VaWMM56VA4LFR98Agfom+N9J48d0+13GsXYeySjHZ902vqyv/MNZJP3PDEzFxXD9pEGjrq3hBWMh/qI7dAOICrtI2ks15NhHajepWnrWVgnhfxYu0yN7x4KvQetJHI8TdE+jV7Pdqr8jP0kaS2Ym11K57a9mIWVatLJIYo5fMxRKXhB9Q980be9Qr5UOhSrvbnJtfYt/V26a1paj23FOZoyTFIYyGWOQeTKZEUM6FRJ7BFCIwPmfiuvvQSjbTWLluSG7UTYeQr3a9a1IGeCGeuI3iUBIVBQh/wCREzMzr5m0k5Ls46Ww1/0+iXlEbWE12sm27xw2yfe1PzmMHsT2xQl3KQyiMrOq+70lmuKnLtd/pE8y5HDLxepWpyXdkm7eKu2sSNSZvqJA7RAR+L+Uiu0RC+auyEMbS3p93Ps63KRSoS7alPJSqR/XTQRJq7E1f6j2HwcSTeEAnUCNf3okPsVWkmYC+1fFdNq4rrV6FeO1tbRv7KxGhD27RRIzK5YszEJHHGvkx8I4o416VFA+Z+NxN2YXK5J67YUNvr6221V6vdpXYUsVrNeVZIp4nUMjo6khlZSCCD0QQRlxgGB8q+NqnK9U+p2gcp5CWGaJvCWvKO/GSNuj0w7P5BBBKsGVmU612vxH8haR7EunirbylHG8kMPtEFt3Mp8YQH/lnqMr3I0i9sD+0AjOhsZLxs2/E/8Am+nkQM3hmLxBf346vz7nMlTinylYt1603xVtKyTOqPYm2VD1QA/lnCTs5A/v4qx/wDmSaf4M5RtLMVnmu3pxU0LhtVrDIUl+7qpkst4uylWR/BUjKunXm6dht74yRdxbKvjyt6L1ETF8P4GJPnhDV+vqWOj1FHQainpNXSr06VCCOtWrV4ljigiRQqRoigBVVQAAB0AABl9jGVhdDGMYAxjGAMYxgDGMYAxjGAMYxgDGMYAzzoH8jPcYB8NDE39Uan/yyjLrqU6NFLWjdHUqysoIYH8gjLnGAYSPhH4b+oW3/wCFPEPcjB0k/glbyVgewQfD7EH7j/GZgtSup7ES9/8AbK2M+uTluz4opbI8AAHQHQz3GM+H0ZB3dinGrtjZch5LUh1WwsU6lGOzGsPotyv6Vi93YVhNI0Kxow8/a7KHf2RxpOZSnghsxvXswJLE6lWVwGVgR0QQfyMAqKAPwOsj+Q7eTRaW3toNPf201ePuGhQRGsWpCekiTzZY1LMQPKR0jXvyd0UMwpaafdxyXKfIpNa0otTPQamXVpqfalDJG/ZSRC/rbxZlbxWQev2emPzQf6jmN29yI1YRPYb6KnW7b6esv2T2yH/mTP8Ad28QETyEa+fgZpQI3X8UpafeR8wr66vrtjsKSUNtBRCtDMTM80bFvSJHMc9iyQ38sEWpnkDEL4ycO+Fcxwcgq/wydvBPMyeyrJI3pXxjm6A+8s4jQSCOR2ViqEDvJOaJZ4XhdnVZFKko5RgD/hgQQf8AcHvLHTbWDZpariWE29bZandiSSMtFKFV18lR39fnG8Uqqx8gkqFgCesAkci9zrrtiehsdftLtZ9dM08laBYmTYRmNlMEgkH2+5V1dGRleNO2MZkjkjtXwitxmWBeG3pdRrYY0gGlVRJrUjVKsSCGE/eqI4KpjjjrtHAGnlkeKVyCJShs7U0q0tnq5adv1+Z8CZq7+KRlykoA+waXwAkWN28HITxHeAfek3NHkOop7zW/UfTXoVmjWzWlrTICO/GSGVVkikH4aORVdGBVlDAgX2Y7tbA4tsZuS3tptZtXcFSlJRjqfURU5jKUFoetDMiN7UWYsWijWNZSIVWxI9bm/LaHBuLbDlOxAeOlGPXF7FQ2J3YJDCrN9g0kjJGvf27cYPqTb0Rb8w53qOHRQpYgs379mRI4NfTCNO4Y9GQhmVUjQBmZ2IH7eh5OVRtM8m+YOXXel/1bDx90mjlFbRVYrkqqIwHhls2kMcg8/JgyRIevEf2JbAt3yLb37Nq1srNeXa7IrJtLVaD0pK4UKI0XslYkVQqgsx6H7mY9sYPKq7iEtdKtvM6NwzwnRVBTzPSl5dl6vWZ43y5zv62pag+RdyI6zh5K0+s17Q2gP+iTwhEgU/38GU/f7EZlvFP1MRUJEp/KlajRrlV739DySkjNIwPvhdmesiqYe5fORP8AmvIYUTs6WzxlDqVYdg/nMNedbB+l1X53J+Z4YwMmDUI8kuzX22f51O4wQR2D2M9znb9MPNZ9bbsfEV0XJadeu+w0U0koaKpWQxo9BB4AoiFlkiUu58WlRRHFBGudE5cwmrIqUdmcyy8WzCvlRbvEZ4SFHZyO2G6SlZjoVqFq/cf1uYKyr3HE0qRtK7uyooUOX8S3m6xS+tZGUrlD/Tw2TrNyeSDZtFMZIIPQUrRhLImruYWZw08frgIlJJDxl4xF5lc9EY+I9ttd2QdBX+krxWHimtbKlPGxaG165Y467+t2DpHP4T9iP90MqCeNsvtXpqOnSVKf1DtNNNO8lm1LYkJkmkmK+crMwjV5XCRg+EakIgVFVRfYwBjGQHJ7Ny4BxLT7LZ6rZbarO8W0q673rRjQxrJIJJUaus381fUkofybt/VLHFKoAsdlqouab7T7jVcmtVK/GNhYM30SMht2AgjaB5SfXLWAeZZIvB/5yRMHilrZN63bT3L+w1tvU26klGRPCWRQ0NqJ17WSJ1+32IZGRvF1ZCSpRo5JJEfj75b7LXwbXXWtZaewkNyF4JGr2JIJQjqVJSWNleNuj9nRgyn7ggjvAI6vMNJtP4ddtwR1dlN1rms7EvYntsJppoEjde/FUiMigSOfH2gLGkS9zWQtmSes2t49YG3s/VQsv8XjSPqOeIIy+7w68Wk6dgfX6SY2RvEvGkljseapp+IbTe3o6Fja6SuBf1lHYpIEvmFJFprLII/3uZYghdULCWNvEBgM+pOT0R8lJRTk9kfPMOWW9YJtLoI4TuXqixHNcRvo6qM/iJJSpBfrp2EakFvDxLRhg41tyWbS8jSzV5JBJyeG10JINofKh0srSRhagAiPgX6DspkIRPJmKg5Hwtcr0vp71v6m9akNzZ2R5gWbb9F2AdnZUH2VI/JgiKqKfFRnxm5YPC66IqU+svz8+pyzi3iC/Osca3yw7L7/AJ07Fnc43wfY14qd7474tNXgIaKM6uPqMg9jx+37ej/jJCDkfNOLzzbTi26s7BJGmsT6fdXJLEFiR/Ej12H85qvXgFUL5RIHkPpdiCKeMn24lN0eWcdUVWNxDJw5qymbT+XvRuPgfPND8h6P+N6J5ozDK1W7SsqEs0LSgF4J0BIVwGVgQSjo6SIzxujtkec3aLdtwL5E1PIITBFQ5DYraLcAVA8k3sdkosGRDJ3HZnC/dhEsdmw7AkKy9I5pWfiPDudfbt7Dq3CeIrieKr9ns16xjGMhFmMYxgDGMYAxjGAMYxgDGMYAxjGAMYxgDGMheRcy4zxRf/bu3hrzNBLZiqqDLasRx9eZhgQGWYjyXsIrHtl+33GEtdj42orVk1jMGs/M/BqmuG0nHI1gI7A/0ttDJ/b/AN2K/n/f/GT3HOa8T5b7k45yCjemrRwy2q0Uo+oqiVS0YnhPUkLMASFdVP2P2+xwuux8U4yeiZN4xjB6PD2B9h2cKAPwOs8I7P3X7D8HvMamm4t8l0t5xa1r/wCLaSKU63YmVO6V2RWIsVPyBOikeuZemiJMkLeTLNGgHxe4vruZcg49zCztlu63So2w01euqGL6yWNo/rfeO3YivLLEioyoUsz+Yl8o/VOaS1tLmrr2N3q012wKkWayWBYjSQEgmOQBfOM9dqzKjFSvkiN2gvQOshtxrIa93/V9Wps7Wy19GxDHTp2/AXUbxcQmKSRIHfzjX1vIVMZZwHRZZfICazG9zNLoeTUN9NeSPVbFE1F1JpSFjsNJ/wAHKrSWFjjDSSSQFY4ZJppLNUeSrD1k9TtR3qkF2FZVjsRrKglieJwrDsBkcBkP3+6sAQfsQDn3NEs8MkDlwsilCUcowBHX2ZSCD/uCCMA+8ZB3uXaTSQNFt9j5bCKhb2Jo1qssl2zBUKLYlr00DzzKrSxDqNXJM0SjyLp5Vf4lv7F/6apxz01YNh9NYs3biR+2r9L7BZqpEJDJ/PZICk3oP7ZnHkqxiYBNrdpR9s+lvGbvzk+jvyM8bufc/SzfeSLykkjBJEipHEFSNfznGHyP+pxt987bP9JdTX8oht8JsTch2u12s9Vfq67BWq0kSt5CaELfrypLKUlArxCVXl85T2LBxraXa9c8q5RbuWBX1xsRa3y1tT62rKZnnhWNzYVJn8FeCWxNGYoljIYNMZdNfPXxfxPhPH9lzng3FuPaO1yDk9PZ8vvJCIp9iTBLVhJYD9z++aDpfsO5Jn/rkctjtTdclHfR/Qn8LlCOdS7NuaP1NRkliST9z9znmeAhgCPwfvnua2dpGMYwCnR36cR55wbk66utdsw8o1murickCE7CdddJKpH/AFLFdlI/sT9j9jnZ/luNwgPjb0cMdjvs+h7Eois//uRrDNHH/wDqeuf/ANzIv2484vxeDmvyRw3jtqttXrx7yrt5J6EPmtZqD/XRNOxBEcLy1YoSx/LTIoIZgc7by8wE1T18zlvi2UJcRfL2itfb1/gtqOu1+rhetrKFepFJNNZaOCJY1aWWRpJZCFABZ5Hd2P5ZmYnsknF2/BQiE06WHUt49QV5Jm767/pRSev9+uv/AFy5xkw1kwHcfNvDNGO7un55L0ofqnwDfWz0W6/ENNz33/b8gff8ffJDUfKPGt3II6et5bGSxX/jOIbaoOwO/wAzVlHXX9/x39vz9sy7GAWN7bJT1bbSOldt9qhjrwQEzyM5AVPFuvAkkAlyqoOy5VQxH1r6P0H1LNdt25LNh7DtPJ5eHl0FRAAFRFUKoCgd9eTeTsztY66Gzs9md7stbe10tJrdCnC2xZknrtJH3PJBG5hLM0AaMt5yJG/XcTSzRCawDzv/AG6zH9zybd6vy+i+O+Qbfx8+vop9evl4/jr32Y/6v7d9f79ZkOMA15W+Tub2LjVZf06fIVeJWRRZlvceMbBvywCbNn6X+/ag/wCAc5U+cud/OE/6s+C/DOv0m+ofF+z083MeQ19nHDaczxXZGjX6oPMEihuLQdUicOpuKjkw+iOPtUbC3u5nralZI9XZ1osQbyvYgdXklJEf06EOHKqPYXdQn74vES9yCPHfkngy7j40s8e06bGxb1tetNQCXA9uy9SWKxHXaxZYlvc1aNHeR+2DEs3f7szY01XdCUtk19SPmVytx7K47uLXxRrUksfI/k/fPMtNVsae111fYUbMViCeNZI5YnDo6kdhgR9iCOj3l32P850RbdDick4vRjGMZ9Phgfztutrxr4g5fyTQ35KO01Olu3qNqP8ArgsRQO8ci/7qyqR/uM7Czl3e6ezzHbaTgtTVU9lFt9hAmzr3q0s1RtYrh7qzetWCB66SxoX6RpZIkJHmO+os1Hj84yvjFbpHSPB9U4Ycpy2b6DGMZRG2jGMYAxjGAMYxgDGMYAxjGAMYxgDGMiuVchq8R4xuOV3qtuzW0tCxsJoKkYknlSGNnZI1JHk5CkAdjskfcY3Dehi3M+dSw7Kbjuh2VOD6JG/jF4ESy693jDQxJGQUM7K4kAcnxXwLIyyAjWsXIBqEetxesdekniJ7ckhnvWyqKgknsSEySP4qoLE9/Ydk5CUVtVdTXo27n1Vl3ku3rAT1izcmYyTy+AJCeTux8R9l76H2z7yjysqVsnGL9H6+srpTc3qy8fdbiR/ZJtrjMf7tOxP/ANcj70EWxu0trZVhsdbN9RSvRMY7NeToqSki9MAylkYd9MjMrdqxBqYyLGTg+aL0Z5Nk/DPyZvd9Ym4NzWOSxu9fX+or7WOFVh2dUMEMkioAsNhCyCRAAj+SyRdAyQwbWPYH2HZzkXkzW9YtLluopmzteN2k2tCJZ1gaaWLvuD3Mj+pZozJA7hSRHNJ1+c6j21na7Tj0ljhN3Vtdt1w2uu2g09RPMDxnZY2UzIoPn4K6ezoL7I/L2Le4t/68NXuTaZuUdGLG4ux8kp6CnoLc0EleS1c2LMsdasoPjHECf3SzSN5EIgKokbtI6EwpNKwww14Ur14kiiiUIiIoVVUDoAAfgAf2yLsbfWccppT2e2mt26+vmuGMRe69bhrhBNMleBPOVgZI+xFH/VKihe2UF/Et/Y2H09TjnpqwbD6exau3ET21fpfYLNVIvYZP57JAY5vQ37ZnHarGJpJmJfIndcq0PHzJDsr4+rTX2tolCtG9m9Yq1vD3yQVYg00/gZYVIjRj5SxqAWdQbSDjW0u1655Vye3dsCvrTPFrfLW1PraspmexCsbmwqTP4K8EtiaMxRJGQwaYyyur1Gp0lZ6em1lShXksT23irQrEjTzyvNNKQoALySySSO35Z3Zj2STgGL7Hb7nQby/yG0l2vx9LVejdXYSRtBFEIS38SqCuksviZpooJlstDGiV5Jx61RntScHGtrerV/8AVXJ7dywK+uNiLWeWtqfWVZTM88Ijc2FSZ/BXglsSxmKJYyGDTGXIcgqE17S7CelyLkOvnh2mwZdGrRrXseJhMrVSPLxndPXO6uiqfSAGUtE80oFpWoU+H8ir1dPq1q6nkM1hpIKNLqKHZs0tqSw6wVz4mwDOZZ55lX2RwIoaSclsoyM5Hx+jyfTzafYKoV2jmgmNeGZqtmKRZYLMazI8ftimSOWMsjBXjRuj1lfU2btvW1ptnViq3TGBahikeSOOYfZ1R3SNpEDA+LlF8l6bxHfWAUtntDQIURFif7/2zH91fi3+qu6TZV2ensK8lWwiSvEzROpVgHQhkPRPTKQQfuCDmWTV4rC+MqBhkfNx+pIe07XAOJ+Q6vkXAtyeN8jRGYqz07kalYbsIPXsTv8ApYdjyjJJQkDtlKO9sNnJ/dQc7E5H8baTlOvbV7ynFdrEllV+w0bFWXyR1IZG8WYeSkEBj9/vmpN3+le7E08/FuTIVEXcFTYxdgy+RP7po+iqdEAdRsR1+T39q2/h/M+ap+77G+cK8WwhWqs1PVf5Lrr7V5+w00u0X/qTKrbGpHC1iaVY40HZZj0P/wC82Npv0zfJVh7EW9v8X1i+o/Tz1pLF8+z+3nE6QDxH+z9n/b85sng/6d+O8V2NbkGwtTbfc1Q3pt2P2pWLxor+iFf2J2UYqzeUqiWRfYVYrmOvh09f7j0XxJmZ4wxYQf8ASpyl61ovn1LT9PHxdNoK0/yLySpLFut5WWGpVtUkim1lHy8jH2R7VeZhHJKjFR1FXUxq8TFt058xoI0CA99DrPrLWMVFcsdjnl908myVtr1k+rGMYz6YhkBtYpuQbKTjdnT17Oh+lLbCy97xZrHnG0dX0ICZI2j9jS+xkXxMSBZllk9V/t7dtIjQ09mgu1sRs9aO258QiuiyS+C/ukCexT4gqCSql08vIVNXqNVpKz09NrKlCvJYntvFVhWJGnnleaaUqoA85JZJJHb8s7sxJJJwC8xjI/cbK3SpzHU63+J309QSothIv+Y/gJHZj+2Nf3MxAZvFH8EkYBGA+t1uddx/V2NxtZnjrVl8m9cTyyOSQFSONAXkkZiFVEUs7MqqCSAbSzqLu5ubSlyEay5xu7RWkurlp+wzFvMWGsM5KyRurIixBAAFkLNJ7FWK6qala+1u7h712aW6kUQilnJggjjDdLFGOkUlndmfou3YDMVSNUv8AsNq9yKEfRqP98xyW/sQ3Ukjg5mP5/OUpKlaX+uJT/5YBzhzPiu84zubHI9GtnYanZTmW7VQF5qU8jktKn93hd2JYfmIkn7xE+mMpbiO9Cs9O2siOAwKt32DnTEmkov9/X1/2zFNn8L8C2c7W/4OlOyxmczUmNdmkl/rlYJ0sj9/fycN9+/8nu9weNSoiq7lql37mqcW8MV5tjuofLJ7+TNOpesAj++UrvJ6+vmq0ZUea9fmFanUhXzmnlKlvFVH3+yqzsT9lRHZiFUkbI1P6dtTrr0dq7z7lu1roCr07dissUnY6/cYYEk+35+zDMr4l8U8J4TCYuP6gRSPGIpbM0r2LU6K7uqy2JS0sgVpH8QzEL5EDofbJl/H4culUepW4vg6fOnkzWnkjHvhz48t6ZJub8w1dGPlGyjaCP1n2vr6BYMtYSdlfJiqPL6wFLKi9yiFJG2hnzHGkSBEHQH4GfWazbZK6bnN9WbxTTDHrVVa0SGMYzwZRjGMAYxjAGMYwBjGMA513O9/URquYfJVTgtJDBNySe1rbfINTe2NWGlX43pnSKnDFNCHWW4bkfSyKvtM7fudHjfFOdfqQ/ULreYc21fA+FVN5HoJNhSp6aDhe2uWIZoeIR7iGWxsYZhXJe/PXprU9UcsglUo3l3nWuWlLUarW2b9zXaypVsbWwtu/LDCqPbnEUcIllYDuRxFDFGGbs+EaL+FAAGhF+UvmfmXNNNf4pWtaDhifIaaWVdr8fbUXNjpX0EFr3yCd4ZKiC81qv8AUNEEEn0/f2jkSx9/qDscm13yRwPbcAi5i28TkXHqOxWkm/sa2TS2b7xXA0EKnUq6wmZ5J7IZ44lHXqkarKvQeMAZj3yFIYeDb+f6mKBItdYkkkl68FjVCX7J+w/aG+5/H5zICQB2T1kZv6Oi5Fpdhxzeww2tdtKstK5XcnxmgkQpIh6IPRViPsf74PklqtDnGNg6K4/uO8+sjaU1jXWrnHNzPC2z1ExqWvWAquygESBPNyiyIUlVWYsEkTv75fCxCfw4zWrIOuThLdFbpoVMZ8iRD+GGe9jPALPcMqaywzfgIcyz9N/DNhwv4P4BY5BV5Vae5xDjRvhpwlrWy06jTepoYkinWFPGGuK8Zl9jMfOHyktTTYRt9LY5vsKHxvrprcU/IZDXsT03aOWnT6/4iysgikWJkj8vW0i+szNDGSDIudb/AIy54fBxrcn3JWOujZZaaHRwVJE4/FRjrG3ZeQU1QRmy07mwT4fb2GYyF/7+Zfy+/eX2R220Gr3TQSXoZRNWkjkisV7EleZAk0U3h7YmV/WzwReyPvwkVfCRXQlTa235RqlqmjBFvK0capaEsq17pCQzEyoQohmkklFZBGfQih5X9h6WMzySTeMjl5DpW3I442yhi2jxyzxU5T65p4YhD7ZYlboyxobMCtInaq0qqSGPWSOAMo2qdS9GsVyrDOiyRyqsqBwHRw6MAf8AqVlVgfyCoI+4ytjAIvj03IpdeU5TSpQbCGaWItSlZ4LEauRHMvkA0ZdPFmiPl63LIHlVVlf6mu0tZta9azPVrHbyGKsGKRvYspGzlB23cjmGNmCqpISByT0B15ttRWsWYd9X1lexudZBYTXySStD/wA1R5QtIoZhE7JEWXxZe4438S0adWNkbPmHDFlqQWuO7a1XjswQ7FWZ6FxCHRLKVLCidElUCSOOf1zIHUSNG/kQMhxkfoN1W5DqYNrVX1+zzjmgM0Ur1p42KTQSNC7x+yKRXjcK7AOjDs9ZIYAxjGAMYxgDGMYAyx3W71fHtbJttzcStWiZI/IgkvJI4SONFALPI7siIigs7sqqCxAN9kFodrFyl05JqdvJLpWjlr14TSeH3SpMyPY85AGkjPrHpdAI3RmkDSpJEygXOkobCBJL2+Otl2thnSSelVaECsJpGrwkuzM5jSTxL9qHf2OqRB/WspnxLNDAgknlSNSyoCx6HkxCqP8AuSQB/ucg4F2HKa1a5bh3Ggiq7J5VqmWJZLsMLusZl8PIpFIQkwRXWQqI1lC+U0GAez7i/vEaLhlykHo7aOpsLN2rM8SxRlXsJCAUE0hUmEOr+EUhcsJGgeBpDW6TUaia/Z1mtr1p9ra+tvyxxgSWrHrSISSt+XYRxRRgknpIo0HSooF6B0Os9wBjGMAYxjAGMYwBjGMAYxjAGMYwBjGMAYxjAGMYwBjGMAYxjAGMYwC12FaS1AY45Cp/2zG7GpvxEkqW/wBxmXZ50D+RgGmfkD47/wBT1zsaMEVbe1ovCtYcFVlUEkQzFQSY+yej0ShYkAgsraetybDR2oNbyjXT6q7Y7EUc/XUpCK7eDAlZPEOPIoSAex32DnYrQxN/VGp/8soT62hZikr2KkUsUqlJI3QMrqR0QQfsQR/Y5guxq7/3b+ZhnSpvVHJCWYyPJLUQH+faB/8AfPddsNnu7g1nEqFjdWvf9NI9dCa1VwU8/fP14R+KyK5QnzZQfBXPSnos/Cfw6ShPxXxEmMhk/wDYlb9pH9x+z7Zl606yfcRL/wCmYI8Pqi9W2/l9zHHH82a6+G/jI8Khv77d7GTZcg3DKLE3RSvWgUkx168ZJ8VHkS8h/fK/3PiixRRbLzwAAdAdDPcnJadESUlFaIYxjB9KNqnUvRrDdqxWI1kjmCSoGAkRw6MAf+pXVWB/IKgj7jIuXV7jXyT29HsmnDqzjX35C0Jk7nc+E3Rli85JYgSfaiRwqscS9k5NYwCIscm19HarqdnDbpNN5fT2JoG+lmAaBAPevccbtJZSNIpGSSRlkKIyozCXx+ciK/GaFHbNttZNapNN19RWhmb6WYBrDk+hu443aWy8jyxqksjLGHdlRVAEvkHuRHorFrmPW6trFUWCzQp+VhWiWQt7krfcmRA8hIhHskU+PjKyQqqrs9/r47f+ptZE8NSNpY7us85vqI0hhLs1boyxyNK1gJDGZ/2QqTJ5OIxLVblS9G01K1FPGskkLPE4YCSNyjr2P7q6spH9ipB+4wCzqPGuwaSrJLYr7OP6tJQ7yRKVVE/axYqoZShVEVQSsjfcsTklmJcmlt6JLV+ffQu125WXSQXVSvDXvFfBKzWlik9UNhwsfm0bSB7DqjMZIY0vd5zbTaDhU3O7y2koRU1uJDNEa1mQuB64RFP6ykzsyosb+LebBSAftjcb7HvLubaHhlP37WdpLcsbvU11fp7d0qyKVhj7Bb90kYLHpE8wXZV7Yar3vzdy2O9Ga68c0dWKeYS1rQm2VueH7epv5TRJWfoMWQmUfcAN9iTrDd8m2d3bbDfW5HXdbjo2pPqDL9JB9/XThfxXqKMMR9kTyYu5Hm7k49+cq7+IaPlq+J0LhfhKpQVmb1k+3l9/X2+r25sPn3mbCIajYcbVhIpl+q1Fkh4+/wByqVsDxYj8MewP8HMv4d+oTj262FbScr1/+nr9+2tSi/v+pp2ZHaT1IJwi+uRgijxkRFMkscaNI7AHnTKdmvBcrS07USSwTIUkjdQyupHRBB+xBGYa8+yL9PqifmeFMG+tqlckvNbe9fbQ7nxmif07/Km63Owu/GvL7st+9RqnYam/JG7S2KKssckU8nRVpYnkiAkYq8qSr+12imlbdG22M2sghlr6i7spJrUFb01PX5Iskiq8zGR0URxqWkb93kVQhFeQpG1xCanFSjszmuTjWYl0qLVpKJZ7pZ9vYHHa1rca8hYbk1+nHGqCNZ1P03slVgTMqSI3rHmiFmDwu0Lm7t7zVUdnR0di4o2GxWaSrWUFpJI4gDLJ4gEhF841LnpQ0kak+UiBrGi9vUXKHGq9LabKNq81q3uLUyFEfzXpX+4ZpJGd2VIk9SJE4JiHpjkv9LqzptXX10myu7GWFT7Ll2QPPYkJJeRyoVQSxJ8UVUUdKiqoVR6MBY09FJso9XsuZ0dVb3GrsT26jwQsY6MkiyRgwmQk+xa8rwmYBC4eUhY1laMTmMYAxjGAMYxgDGMYAxjGAMYxgDGMYAxjGAMYxgDGMYAxjGAMYxgDGMYAxjGAMYxgDGMYAxjGAMYxgDGMYAxjGAMYxgDLSTVUJL6bT0eFtPAGaNmRpFUSBUkKkexF90hCN2oZvIDyAOXeMAgIYOS0Ib1fatByGj6XNdVhSC46rBCohkBYQTPJILLmQehFDxJ6z00h435z+ovj2y+XuS/pT49Cws6fcvyna+Gh+gprAZZJJKnqniSQTm3LSvfVI062TPLMssaOsK9z5p39UC7VOD6m1r6kUlOvvIG2UzzLH9PA0M0aOAxHmTO9eMKvZ/md9dAkY7tf05cu+jJ/C+T+up/U25o/U5/di7F2PZY9k55gHsAj++M1s7SMYxgFKnzXTfGvM+J883z+FKhu6lOaR7oqwwpef6BppnP7THELZlIb7fywewQGHW2p12y5Nsxyja6X+F1tloxVVHvWRsIVkldxH4DwWm4jMZkMZMjyFVLgVYmk5L1egqcw+Q+DcVsbCSnJNyShtIZErtKGfXSjZetuuggdaTJ5E9AsPyege5svMDX9Hr5nLvFvL/6Po/6rX29f40LfX6+hqaFbVaqjXpUqUKV61avEscUMSKFRERQAqqAAAB0AABlxjGTDWBjGMAYxjAGMYwBjGMAYxjAGMYwBjGMAYxjAGMYwBjGMAYxjAGMYwBjGMAYxjAGMYwBjGMAYxjAGMYwBjGMAYxjAGMYwBjGMAsdhtYqBCupLH8Zi3MY9Vzbjew4tuagapsIjGWEcbvC4IaOaMSKyCSNwsiMVPi6KevtmYWacFtfGVe/98i5uNwt2YpCuBscU7M7PjG7tcX3laSK7RIHk6eC2IiSEmT7kFH8SR0T10VPTKyj5G0/ymdXcy+JNNzWl9LuaqPLGkiVrcYCz1i4AJjYg/wBwp8SCpKKSD4jNR7X9MXMa+xYaLa621r29jg2mkimjPkfCPpVcOAvQL9r9wT4/2yrv4e2+ar4HQuFeLaXWq87pJd9NU/s/kaxXZQn8gjK31lcRPM8qpHGCzMx6Cgf3OZpH+nj5QmqTyQarTw2o2CxR39k6JL9/ufKGKQgf9x3+Pt/jP+F/pop6na195yvajdWaNr6mjXWA16cBHfgzReTGaRfInydinkEdUV0Vhjr4fY36fREzN8WYVMH+h6cvgve2e/p3+Ld7pdlf+R+VwLVnv1RR09LzlWaCozK8slhfIR+crxxeKFGaNYu/MGaSJN658RIY41Qt2QOu8+8toxUEox2RzfJyLMq2V1r1kxjGM9GEYxjAGMYwBjGMAYxjAGMYwBjGMAYxjAGMYwBjGMAYxjAGMYwBjGMAYxjAGMYwBjGMAYxjAGMYwBjGMAYxjAGMYwBjGMAYxjAGMYwBjGMAYxjAGMYwBjGMAYxjAGMYwBjGMAYxjAGMYwBjGMAYxjAGMYwBjGMA/9k=)"
      ]
    },
    {
      "cell_type": "code",
      "metadata": {
        "id": "jI65YYqUFLQh"
      },
      "source": [
        "# Creating Custom Layers \n",
        "class MLP(keras.Model):\n",
        "  def __init__(self):\n",
        "    super().__init__() # Initialize keras.Model \n",
        "    self.num_classes = NUM_CLASSES\n",
        "    self.MLP = keras.Sequential([\n",
        "      keras.layers.Reshape((32 * 32 * 3, ), input_shape = (32, 32, 3)),\n",
        "      keras.layers.Dense(1024, activation = 'relu'),\n",
        "      keras.layers.Dense(1536, activation = 'relu'),\n",
        "      keras.layers.Dense(self.num_classes)\n",
        "    ])\n",
        "  def call(self, x, training):\n",
        "    # X: tensor(B, 32, 32, 3)\n",
        "    return self.MLP(x, training = training)"
      ],
      "execution_count": 12,
      "outputs": []
    },
    {
      "cell_type": "code",
      "metadata": {
        "id": "1ZdxwUJ4eD_o"
      },
      "source": [
        "class MLPTrainingConfig:\n",
        "  num_epochs = 20\n",
        "\n",
        "# basic training script \n",
        "def train_MLP(file_path):\n",
        "  '''\n",
        "  File_path: file_path to save the MLP\n",
        "  '''\n",
        "  # create a model\n",
        "  model = MLP()\n",
        "  # compile it\n",
        "  model.compile(\n",
        "      optimizer = 'adam',\n",
        "      loss = keras.losses.SparseCategoricalCrossentropy(from_logits = True),\n",
        "      metrics = [\n",
        "          keras.metrics.SparseCategoricalAccuracy(name = 'accuracy')\n",
        "      ]\n",
        "  )\n",
        "  # create model callback to save model\n",
        "  callbacks = [\n",
        "    keras.callbacks.ModelCheckpoint(file_path, monitor = 'val_accuracy', save_best_only = True, save_weights_only = True)\n",
        "  ]\n",
        "  model(tf.identity(np.zeros((1, 32, 32, 3))))\n",
        "  # train the model\n",
        "  model.fit(train_dataset, epochs = MLPTrainingConfig.num_epochs, callbacks = callbacks, validation_data=val_dataset)\n"
      ],
      "execution_count": 13,
      "outputs": []
    },
    {
      "cell_type": "markdown",
      "metadata": {
        "id": "HqlrGgqPljnR"
      },
      "source": [
        "This simple 3 layer model should be able to achieve around 45% accuracy in 1 minute(On GPU, on CPU it will take around 7 minutes)"
      ]
    },
    {
      "cell_type": "code",
      "metadata": {
        "id": "CHVbcXEseO2o"
      },
      "source": [
        "train_MLP('./mlp.h5') # Train the MLP"
      ],
      "execution_count": null,
      "outputs": []
    },
    {
      "cell_type": "markdown",
      "metadata": {
        "id": "yOe1j4MBl5m5"
      },
      "source": [
        "2) Model #2: Transfer Learned ResNet50\n",
        "- Transfer Learning is the idea of using pretrained Convolutional Neural Network weights to accelerate training\n",
        "- We will be using a simple CNN, pretrained on ImageNet, and we will finetune on CIFAR-10."
      ]
    },
    {
      "cell_type": "code",
      "metadata": {
        "id": "cZIe82KmgA7K"
      },
      "source": [
        "# BackBone Model\n",
        "class ResNetBackBone(keras.layers.Layer):\n",
        "  def __init__(self, freeze =False):\n",
        "    super().__init__()\n",
        "    self.freeze = freeze\n",
        "    self.backbone = (include_top = False, input_shape = (32, 32, 3)) # Just the backbone\n",
        "    # Freeze Backbone, to prevent overfitting \n",
        "    if self.freeze:\n",
        "      self.backbone.trainable = False\n",
        "  def __call__(self, x, training):\n",
        "    return self.backbone(x, training = training) # (B, 1, 1, 2048) - Typically, images should be much larger.\n",
        "\n",
        "# Model Head\n",
        "class Head(keras.layers.Layer):\n",
        "  def __init__(self):\n",
        "    super().__init__()\n",
        "    self.num_classes = NUM_CLASSES\n",
        "    self.LinearHead = keras.Sequential([\n",
        "        keras.layers.Reshape((2048, ), input_shape = (1, 1, 2048)),\n",
        "        keras.layers.Dense(1024, activation = 'relu'),\n",
        "        keras.layers.BatchNormalization(),\n",
        "        keras.layers.Dropout(0.2),\n",
        "        keras.layers.Dense(self.num_classes)\n",
        "    ])\n",
        "  def __call__(self, x, training):\n",
        "    # x: Tensor(B, 1, 1, 2048)\n",
        "    return self.LinearHead(x, training = training) # (B, C)\n",
        "\n",
        "\n",
        "# Full CNN Model\n",
        "class TransferLearnedCNN(keras.Model):\n",
        "  def __init__(self):\n",
        "    super().__init__()\n",
        "    self.backbone = ResNetBackBone()\n",
        "    self.head = Head() # Load the Model \n",
        "\n",
        "  def call(self, x, training): # Note the \"call\" and not \"__call__\"(keras handles the Model Logic)\n",
        "    features = self.backbone(x, training = training)\n",
        "    return self.head(features, training = training)\n",
        "    "
      ],
      "execution_count": 25,
      "outputs": []
    },
    {
      "cell_type": "code",
      "metadata": {
        "id": "tpoJpBiwoMsk"
      },
      "source": [
        "class CNNTrainingConfig:\n",
        "  num_epochs = 20\n",
        "def train_CNN(file_path):\n",
        "  model = TransferLearnedCNN()\n",
        "  # compile the model\n",
        "  model.compile(\n",
        "      optimizer = 'adam',\n",
        "      loss = keras.losses.SparseCategoricalCrossentropy(from_logits = True),\n",
        "      metrics = [\n",
        "         keras.metrics.SparseCategoricalAccuracy(name = 'accuracy')\n",
        "      ]\n",
        "  )\n",
        "  # callbacks\n",
        "  callbacks = [\n",
        "    keras.callbacks.ModelCheckpoint(file_path, monitor = 'val_accuracy', save_best_only=True, save_weights_only=True)\n",
        "  ]\n",
        "  # Fit the Model \n",
        "  model.fit(train_dataset, epochs = CNNTrainingConfig.num_epochs, callbacks = callbacks, validation_data = val_dataset)"
      ],
      "execution_count": 26,
      "outputs": []
    },
    {
      "cell_type": "markdown",
      "metadata": {
        "id": "cfG-DKApM9L5"
      },
      "source": [
        "A ResNet50 is slower than a simple 3 Layer Perceptron, so expect training to take 1 minute 20 seconds per epoch on GPU and much longer on CPU(Convolutions are optimized on GPU to run fast).\n",
        "\n",
        "In terms of performance, expect the model to perform much better than the MLP. It should converge in around 8-9 Epochs and begin **Overfitting** soon after(Too large capacity for too little data).\n",
        "\n",
        "Performance Stats: 85% Validation Accuracy after 10 -15 epochs.\n",
        "\n",
        "\n"
      ]
    },
    {
      "cell_type": "code",
      "metadata": {
        "colab": {
          "base_uri": "https://localhost:8080/"
        },
        "id": "ukewiqvLLeEM",
        "outputId": "a2503e3e-f7f2-48f2-c68c-80294ca7078c"
      },
      "source": [
        "train_CNN('./CNN.h5') # Train and Save the ResNet-50"
      ],
      "execution_count": null,
      "outputs": [
        {
          "output_type": "stream",
          "text": [
            "Epoch 1/20\n",
            "1407/1407 [==============================] - 74s 48ms/step - loss: 1.7107 - accuracy: 0.4397 - val_loss: 94.9885 - val_accuracy: 0.1659\n",
            "Epoch 2/20\n",
            "1407/1407 [==============================] - 72s 51ms/step - loss: 1.3919 - accuracy: 0.5436 - val_loss: 1.8444 - val_accuracy: 0.5163\n",
            "Epoch 3/20\n",
            "1407/1407 [==============================] - 67s 47ms/step - loss: 1.3451 - accuracy: 0.5621 - val_loss: 1.8018 - val_accuracy: 0.4786\n",
            "Epoch 4/20\n",
            "1407/1407 [==============================] - 67s 47ms/step - loss: 1.2039 - accuracy: 0.6046 - val_loss: 2.6429 - val_accuracy: 0.3438\n"
          ],
          "name": "stdout"
        },
        {
          "output_type": "stream",
          "text": [
            "Exception ignored in: <function IteratorResourceDeleter.__del__ at 0x7f1c329c17a0>\n",
            "Traceback (most recent call last):\n",
            "  File \"/usr/local/lib/python3.7/dist-packages/tensorflow/python/data/ops/iterator_ops.py\", line 546, in __del__\n",
            "    handle=self._handle, deleter=self._deleter)\n",
            "  File \"/usr/local/lib/python3.7/dist-packages/tensorflow/python/ops/gen_dataset_ops.py\", line 1264, in delete_iterator\n",
            "    _ctx, \"DeleteIterator\", name, handle, deleter)\n",
            "KeyboardInterrupt: \n"
          ],
          "name": "stderr"
        },
        {
          "output_type": "stream",
          "text": [
            "Epoch 5/20\n",
            "1407/1407 [==============================] - 67s 47ms/step - loss: 1.2768 - accuracy: 0.5769 - val_loss: 1.2956 - val_accuracy: 0.5715\n",
            "Epoch 6/20\n",
            "1407/1407 [==============================] - 67s 47ms/step - loss: 1.0379 - accuracy: 0.6574 - val_loss: 1.1116 - val_accuracy: 0.6316\n",
            "Epoch 7/20\n",
            "1407/1407 [==============================] - 67s 47ms/step - loss: 1.1321 - accuracy: 0.6279 - val_loss: 0.9956 - val_accuracy: 0.6496\n",
            "Epoch 8/20\n",
            "1407/1407 [==============================] - 67s 47ms/step - loss: 1.0309 - accuracy: 0.6540 - val_loss: 1.0523 - val_accuracy: 0.6581\n",
            "Epoch 9/20\n",
            "1407/1407 [==============================] - 72s 51ms/step - loss: 0.7925 - accuracy: 0.7332 - val_loss: 0.9341 - val_accuracy: 0.7051\n",
            "Epoch 10/20\n",
            "1407/1407 [==============================] - 67s 47ms/step - loss: 0.7491 - accuracy: 0.7487 - val_loss: 0.8750 - val_accuracy: 0.7165\n",
            "Epoch 11/20\n",
            "1407/1407 [==============================] - 67s 47ms/step - loss: 0.6952 - accuracy: 0.7675 - val_loss: 1.0058 - val_accuracy: 0.6579\n",
            "Epoch 12/20\n",
            "1407/1407 [==============================] - 67s 47ms/step - loss: 0.6097 - accuracy: 0.7945 - val_loss: 0.6160 - val_accuracy: 0.7917\n",
            "Epoch 13/20\n",
            "1407/1407 [==============================] - 67s 47ms/step - loss: 0.5425 - accuracy: 0.8197 - val_loss: 0.4522 - val_accuracy: 0.8489\n",
            "Epoch 14/20\n",
            "1407/1407 [==============================] - 67s 47ms/step - loss: 0.5187 - accuracy: 0.8281 - val_loss: 0.5192 - val_accuracy: 0.8235\n",
            "Epoch 15/20\n",
            "1407/1407 [==============================] - 66s 47ms/step - loss: 0.4708 - accuracy: 0.8423 - val_loss: 0.4691 - val_accuracy: 0.8442\n",
            "Epoch 16/20\n",
            "1407/1407 [==============================] - 66s 47ms/step - loss: 0.3803 - accuracy: 0.8718 - val_loss: 0.4000 - val_accuracy: 0.8619\n",
            "Epoch 17/20\n",
            "1407/1407 [==============================] - 66s 47ms/step - loss: 0.2943 - accuracy: 0.9006 - val_loss: 0.4879 - val_accuracy: 0.8381\n",
            "Epoch 18/20\n",
            "1407/1407 [==============================] - 67s 48ms/step - loss: 0.3164 - accuracy: 0.8946 - val_loss: 0.5622 - val_accuracy: 0.8190\n",
            "Epoch 19/20\n",
            " 217/1407 [===>..........................] - ETA: 43s - loss: 0.2742 - accuracy: 0.9061"
          ],
          "name": "stdout"
        }
      ]
    },
    {
      "cell_type": "markdown",
      "metadata": {
        "id": "GQQhibzHmPve"
      },
      "source": [
        "You can download your trained weights(MLP and CNN), in the colab storage, since we saved the models using SaveModelCallback. Loading the weights is as simple as the following(Load in CNN weights):\n"
      ]
    },
    {
      "cell_type": "markdown",
      "metadata": {
        "id": "MBXWWC5SH-wU"
      },
      "source": [
        "# 5) Test the model\n",
        "- Make sure that the model hasn't overfit the validation set \n",
        "- Have a number for your research paper or the conference room."
      ]
    },
    {
      "cell_type": "code",
      "metadata": {
        "id": "MIRvLc8jLzBq"
      },
      "source": [
        "# Testing Script\n"
      ],
      "execution_count": null,
      "outputs": []
    },
    {
      "cell_type": "markdown",
      "metadata": {
        "id": "IAgdI5jEG2rj"
      },
      "source": [
        "# 6) Inference Loop and Deployment:\n",
        "- Basic Model Loading Script\n",
        "- Basic Image Loading and Preprocessing Script in Eager Mode\n",
        "- Basic Inference Code(deployment)"
      ]
    },
    {
      "cell_type": "code",
      "metadata": {
        "id": "wxExu5S3N1kQ"
      },
      "source": [
        ""
      ],
      "execution_count": null,
      "outputs": []
    },
    {
      "cell_type": "markdown",
      "metadata": {
        "id": "thVgppWJNqld"
      },
      "source": [
        "# 7) Future Improvement and Maintenance:\n",
        "Rules of Thumb for Better Performance:\n",
        "\n",
        "**Data**: More Data, Better quality(32x32 -> 224x224), Data Augmentation\n",
        "\n",
        "**Model**: Larger Models, Prevent Overfitting(Weight decay, dropout, etc.), specialized models, pretrained models + transfer learning."
      ]
    },
    {
      "cell_type": "code",
      "metadata": {
        "id": "6gWWAUuQODMK"
      },
      "source": [
        ""
      ],
      "execution_count": null,
      "outputs": []
    }
  ]
}